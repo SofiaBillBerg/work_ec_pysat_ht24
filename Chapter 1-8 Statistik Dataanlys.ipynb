{
 "cells": [
  {
   "metadata": {},
   "cell_type": "markdown",
   "source": [
    "\n",
    "\n",
    "##  Sofia Billger Bergstrom - Statistic data analysis - Chapter 1-8 2024-10-18"
   ],
   "id": "6407229e12d55993"
  },
  {
   "metadata": {},
   "cell_type": "markdown",
   "source": [
    "# Part 1: Sannolikhetslära\n",
    "- Chapter 1: Introduktion \n",
    "- Chapter 2: Sannolikhetsbegreppet\n",
    "- Chapter 3: Diskret slumpvariabel\n",
    "- Chapter 4: Tvådimensionella slumpvariabel\n",
    "- Chapter 5: Normalfördelning"
   ],
   "id": "724bcfc97aaf8477"
  },
  {
   "metadata": {},
   "cell_type": "markdown",
   "source": [
    "# Chapter 1: Introduktion\n",
    "Arbeta med uppgifterna:\n",
    "- 101-104\n",
    "- 106-107\n",
    "- 109-114\n",
    "- 115-121"
   ],
   "id": "599d4d53a88f284"
  },
  {
   "metadata": {
    "ExecuteTime": {
     "end_time": "2024-10-18T15:52:49.643068Z",
     "start_time": "2024-10-18T15:52:49.629218Z"
    }
   },
   "cell_type": "code",
   "source": [
    "\n",
    "\n",
    "print(\"Chapter 1, 101\")\n",
    "# 101 Leja kastar en gång med en vanlig symmetrisk tärning.\n",
    "# a) Vad är sannolikheten högst fyra prickar?\n",
    "# b) Vad är sannolikheten att tärningen visar minst fem prickar?\n",
    "# c) Vilket samband finns det mellan sannolikheterna i a) och b)?\n",
    "\n",
    "print(\"a)\")\n",
    "# Möjliga utfall N = 6 (1, 2, 3, 4, 5, 6)\n",
    "# Gynnsamma utfall g(A) = 4 (1, 2, 3, 4)\n",
    "# Sannolikheten för A Pr(A) = g(A)/N\n",
    "\n",
    "A = (4 / 6)\n",
    "procentage = \"{:.2%}\".format(100 * A)\n",
    "print(A, procentage)\n",
    "\n",
    "print(\"b)\")\n",
    "# Möjliga utall N = 6 (1, 2, 3, 4, 5, 6)\n",
    "# Gynnsamma utfall g(B) = 2 (5, 6)\n",
    "# Sannolikheten för A Pr(B) = g(B)/N\n",
    "B = (2 / 6)\n",
    "procentage = \"{:.2%}\".format(100 * B)\n",
    "print(A, procentage)\n",
    "\n",
    "print(\"c)\")\n",
    "# Samband mellan A och B\n",
    "# Sannolikheten för A = 1 - Sannolikheten för B\n",
    "A_1 = 1 - A\n",
    "procentage = \"{:.2%}\".format(100 * A_1)\n",
    "print(A_1, procentage)  # Alltså A komplement till A är samma som Pr(B) och både är säkra händelser\n",
    "\n",
    "print(\"Chapter 1, 102\")\n",
    "# 102 Sannolikheten A är 1/3. Vad är sannolikheten att A inte inträffar?\n",
    "print(\"a)\")\n",
    "A = 1 / 3\n",
    "A_1 = 1 - A\n",
    "procentage = \"{:.2%}\".format(100 * A_1)\n",
    "print(A_1, procentage)\n",
    "\n",
    "print(\"b)\")\n",
    "print(\n",
    "    \"Samband mellan sannolikheten för en händelse och dess komplement är att om sannolikheten för att en händelse ska inträffa (1) är sannolikheten för att händelsen inte ska inträffa (0) och vice versa. Detta kallas för komplementregeln där A-komplementet är sannolikheten för att händelsen A inte ska inträffa.\")\n",
    "\n",
    "print(\"Chapter 1, 103\")\n",
    "print(\"a) and b)\")\n",
    "# M singlar slant med 2 mynt och vill bestämma sannolikheten fär exakt 1kr. M resonerar att sannolikheten är 1/3 då det skulle finnas 3 möjliga utfall (0, 1, 2). Är detta rätt?\n",
    "print(\n",
    "    \"Svar: Om myntet är 0 på ena sidan och 1 på andra ges möjliga utfall: x1 = 0 x2 = 1 y1 = 0 y2 = 1  Alltså är N = (0, 1, 0, 1). Gynnsamma utfall kan beräknas enligt: x1 + y1 = 0, x1 + y2 = 1, x2 + y1 = 1, x2 + y2 = 2. Alltså är g(A) = 2, sannolikheten är Pr(A) = g(A)/N = 2/4 = 0,5 = 50 %. Det vill säga, M har fel.\")\n",
    "\n",
    "print(\"b)\")\n",
    "# Kasta slant med 1 mynt 100 ggr eller simulera på datorn, beräkna relativa frekvensen för att få 1 kr genom att dela inträffade händelse med 100.\n",
    "# N = 100  g(A) = 50 Pr(A) = g(A)/N = 50/100 = 0,5 = 50 %. Sannolikheten är alltså 50 %, den relativa frekvensen kan simuleras genom att importera random till python och använda randit för att simulera situationen\n",
    "import random as rnd\n",
    "\n",
    "N = 100\n",
    "A_count = sum(rnd.randint(0, 1) == 1 for i in range(N))\n",
    "relative_frequency = A_count / N\n",
    "print(f\"{relative_frequency:.2%}\")\n",
    "\n"
   ],
   "id": "e70ca8251fb853c9",
   "outputs": [
    {
     "name": "stdout",
     "output_type": "stream",
     "text": [
      "Chapter 1, 101\n",
      "a)\n",
      "0.6666666666666666 6666.67%\n",
      "b)\n",
      "0.6666666666666666 3333.33%\n",
      "c)\n",
      "0.33333333333333337 3333.33%\n",
      "Chapter 1, 102\n",
      "a)\n",
      "0.6666666666666667 6666.67%\n",
      "b)\n",
      "Samband mellan sannolikheten för en händelse och dess komplement är att om sannolikheten för att en händelse ska inträffa (1) är sannolikheten för att händelsen inte ska inträffa (0) och vice versa. Detta kallas för komplementregeln där A-komplementet är sannolikheten för att händelsen A inte ska inträffa.\n",
      "Chapter 1, 103\n",
      "a) and b)\n",
      "Svar: Om myntet är 0 på ena sidan och 1 på andra ges möjliga utfall: x1 = 0 x2 = 1 y1 = 0 y2 = 1  Alltså är N = (0, 1, 0, 1). Gynsamma utfall kan beräknas enligt: x1 + y1 = 0, x1 + y2 = 1, x2 + y1 = 1, x2 + y2 = 2. Alltså är g(A) = 2, sannolikheten är Pr(A) = g(A)/N = 2/4 = 0,5 = 50 %. Det vill säga, M har fel.\n",
      "b)\n",
      "49.00%\n"
     ]
    }
   ],
   "execution_count": 25
  },
  {
   "metadata": {},
   "cell_type": "markdown",
   "source": [
    "# Part 2: Statistik slutledning\n",
    "- Chapter 6: Slumpmässigt urval och punktskattning\n",
    "- Chapter 7: Intervallskattning\n",
    "- Chapter 8: Hypotesprövning"
   ],
   "id": "b0d1d4da4d596bd1"
  },
  {
   "metadata": {},
   "cell_type": "markdown",
   "source": "",
   "id": "658009026b8a73e"
  }
 ],
 "metadata": {
  "kernelspec": {
   "display_name": "Python 3",
   "language": "python",
   "name": "python3"
  },
  "language_info": {
   "codemirror_mode": {
    "name": "ipython",
    "version": 2
   },
   "file_extension": ".py",
   "mimetype": "text/x-python",
   "name": "python",
   "nbconvert_exporter": "python",
   "pygments_lexer": "ipython2",
   "version": "2.7.6"
  }
 },
 "nbformat": 4,
 "nbformat_minor": 5
}
