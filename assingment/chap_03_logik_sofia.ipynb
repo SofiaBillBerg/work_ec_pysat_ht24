{
 "cells": [
  {
   "cell_type": "markdown",
   "id": "92b5c548-e8ea-4ce8-a138-b3343118191b",
   "metadata": {},
   "source": [
    "# Uppgifter, Kapitel 3 - Logik"
   ]
  },
  {
   "cell_type": "markdown",
   "id": "0ca8aab7-7fa4-4284-b810-ce883acca33e",
   "metadata": {},
   "source": [
    "1. Förklara vad nedanstående kod gör. "
   ]
  },
  {
   "cell_type": "code",
   "execution_count": 1,
   "id": "58d26d8d-1bd9-4b72-bf22-9be8a2773ee0",
   "metadata": {},
   "outputs": [
    {
     "name": "stdout",
     "output_type": "stream",
     "text": [
      "You can take a drivers license\n"
     ]
    }
   ],
   "source": [
    "age = 23\n",
    "\n",
    "if age > 18: \n",
    "    print('You can take a drivers license')\n",
    "else: \n",
    "    print('You are too young to take a drivers license')"
   ]
  },
  {
   "cell_type": "markdown",
   "id": "7333da70",
   "metadata": {},
   "source": [
    "med en if-sats som kollar vilket villkor som uppfylls. i detta fall innebär det att age=23 är äldre än 18 och därför skrivs det ut för det uppfyller kraven i if-satsen. \n",
    "\n",
    "```python"
   ]
  },
  {
   "cell_type": "markdown",
   "id": "1a3c64ed-c59f-4b3e-86c7-cb60dfd30274",
   "metadata": {},
   "source": [
    "2. Skapa ett program som undersöker om värdet i variabeln x nedan är större än 10, mellan 10 och 5, eller mindre än 5 där någon text printas ut för varje av de tre fallen som undersöks. "
   ]
  },
  {
   "cell_type": "code",
   "execution_count": 2,
   "id": "23c7a46d-a60a-45cb-8930-f7afc52e4d6a",
   "metadata": {},
   "outputs": [],
   "source": [
    "x = 7"
   ]
  },
  {
   "cell_type": "code",
   "execution_count": 4,
   "id": "c0e433fa-ec9e-4424-8b98-b24e93c36af2",
   "metadata": {},
   "outputs": [
    {
     "name": "stdout",
     "output_type": "stream",
     "text": [
      "x är mindre än 10 och större än 5\n"
     ]
    }
   ],
   "source": [
    "x = 7\n",
    "\n",
    "if x > 10:\n",
    "    print ('x är större än 10')\n",
    "\n",
    "elif x < 10 and x > 5:\n",
    "    print ('x är mindre än 10 och större än 5')\n",
    "\n",
    "else:\n",
    "    print ('x är mindre än 5')"
   ]
  },
  {
   "cell_type": "markdown",
   "id": "e148160c",
   "metadata": {},
   "source": [
    "med en if-sats itererar programmet genom de olika villkoren och skriver ut texten som är kopplad till det villkor som uppfylls. \n",
    "\n"
   ]
  },
  {
   "cell_type": "markdown",
   "id": "fdb7b75d-4108-41b5-884c-75b2ef55ad5e",
   "metadata": {},
   "source": [
    "3. Varför blir resultatet \"True\" när koden nedan exekveras? "
   ]
  },
  {
   "cell_type": "code",
   "execution_count": 5,
   "id": "c7bfb67c-3943-4425-b32d-1116471a18b7",
   "metadata": {},
   "outputs": [
    {
     "data": {
      "text/plain": [
       "True"
      ]
     },
     "execution_count": 5,
     "metadata": {},
     "output_type": "execute_result"
    }
   ],
   "source": [
    "1 == True"
   ]
  },
  {
   "cell_type": "markdown",
   "id": "069d1088",
   "metadata": {},
   "source": [
    "då koden enbart innehåller att 1 är ekvilavent med 1 så blir resultatet True. för att koden ska kunna skriva något annat måste det vara en if-sats som också kontrollerar mot något annat."
   ]
  },
  {
   "cell_type": "markdown",
   "id": "30ac30bc-2197-41c8-8ece-4f654a0063a4",
   "metadata": {},
   "source": [
    "4. Vad blir resultatet om nedanstående kod exekveras? "
   ]
  },
  {
   "cell_type": "code",
   "execution_count": 6,
   "id": "85699762-c937-446b-bc00-83892d5ee3d2",
   "metadata": {},
   "outputs": [
    {
     "data": {
      "text/plain": [
       "False"
      ]
     },
     "execution_count": 6,
     "metadata": {},
     "output_type": "execute_result"
    }
   ],
   "source": [
    "10 > 15"
   ]
  },
  {
   "cell_type": "markdown",
   "id": "b84655b4",
   "metadata": {},
   "source": [
    "resultatet blir false då koden kollar om 10 är större än 15 vilket inte är sant."
   ]
  },
  {
   "cell_type": "markdown",
   "id": "552565f2-116c-4405-9dbe-0eb443df5b10",
   "metadata": {
    "jp-MarkdownHeadingCollapsed": true
   },
   "source": [
    "5. Vad blir resultatet om nedanstående kod exekveras? "
   ]
  },
  {
   "cell_type": "code",
   "execution_count": 7,
   "id": "ec7a2f6d-e361-4062-83ae-b89b7f0d0c06",
   "metadata": {},
   "outputs": [
    {
     "data": {
      "text/plain": [
       "True"
      ]
     },
     "execution_count": 7,
     "metadata": {},
     "output_type": "execute_result"
    }
   ],
   "source": [
    "7 >= 7"
   ]
  },
  {
   "cell_type": "markdown",
   "id": "23e5af68",
   "metadata": {},
   "source": [
    "då koden kontrollerar om 7 är mer eller lika med 7 kommer resultatet att bli True."
   ]
  },
  {
   "cell_type": "markdown",
   "id": "9fe4c315-9f61-4d5e-9c79-e5392f05d771",
   "metadata": {},
   "source": [
    "6. Vad blir resultatet om nedanstående kod exekveras? "
   ]
  },
  {
   "cell_type": "code",
   "execution_count": 8,
   "id": "0f509e58-728c-434a-8615-0c6c90d715d1",
   "metadata": {},
   "outputs": [
    {
     "data": {
      "text/plain": [
       "False"
      ]
     },
     "execution_count": 8,
     "metadata": {},
     "output_type": "execute_result"
    }
   ],
   "source": [
    "3 != 3"
   ]
  },
  {
   "cell_type": "markdown",
   "id": "b243830a",
   "metadata": {},
   "source": [
    "eftersom koden anger 3 != 3 kommer resultatet att bli False då 3 är lika med 3 och inte olika.  !=  används för att kontrollera om värdet inte är det efterfrågade. "
   ]
  },
  {
   "cell_type": "markdown",
   "id": "39a98cf3-d025-47a0-ac05-63848a38bf47",
   "metadata": {},
   "source": [
    "7. Vad blir resultatet om nedanstående kod exekveras? "
   ]
  },
  {
   "cell_type": "code",
   "execution_count": 9,
   "id": "0267f9bb-d478-4df2-a48d-71aed9036f90",
   "metadata": {},
   "outputs": [
    {
     "data": {
      "text/plain": [
       "False"
      ]
     },
     "execution_count": 9,
     "metadata": {},
     "output_type": "execute_result"
    }
   ],
   "source": [
    "5 >= 5 and 5 > 6"
   ]
  },
  {
   "cell_type": "code",
   "execution_count": null,
   "id": "c3546351-838f-44a7-afd7-e44766e4c780",
   "metadata": {},
   "outputs": [],
   "source": []
  },
  {
   "cell_type": "markdown",
   "id": "a9d53816-8e77-4d5f-8c31-204fd5e829a9",
   "metadata": {},
   "source": [
    "8. Vad blir resultatet om nedanstående kod exekveras? "
   ]
  },
  {
   "cell_type": "code",
   "execution_count": 10,
   "id": "616d9678-75e3-42e5-8ec6-4b6fe4cf2cf5",
   "metadata": {},
   "outputs": [
    {
     "data": {
      "text/plain": [
       "True"
      ]
     },
     "execution_count": 10,
     "metadata": {},
     "output_type": "execute_result"
    }
   ],
   "source": [
    "5 >= 5 or 5 > 6\n"
   ]
  },
  {
   "cell_type": "code",
   "execution_count": null,
   "id": "b927b0cd-65ff-4a9f-8187-394095bcb7c9",
   "metadata": {},
   "outputs": [],
   "source": []
  },
  {
   "cell_type": "markdown",
   "id": "d62b6831-c7e7-4be3-8984-2a1e27b3c548",
   "metadata": {},
   "source": [
    "9. Vad blir resultatet om nedanstående kod exekveras? "
   ]
  },
  {
   "cell_type": "code",
   "execution_count": 11,
   "id": "92c97259-3a15-45a5-9bbd-69826dc3ab5a",
   "metadata": {},
   "outputs": [
    {
     "data": {
      "text/plain": [
       "True"
      ]
     },
     "execution_count": 11,
     "metadata": {},
     "output_type": "execute_result"
    }
   ],
   "source": [
    "(5 > 4 and 5 >=5) or (10 > 2 and 3 > 100)"
   ]
  },
  {
   "cell_type": "code",
   "execution_count": null,
   "id": "67ab32af-9d7d-467d-b476-624ce6c6fc64",
   "metadata": {},
   "outputs": [],
   "source": []
  },
  {
   "cell_type": "markdown",
   "id": "5baaf82c-2a97-4286-b6ea-efe246564c0b",
   "metadata": {},
   "source": [
    "10. Förklara skillnaden mellan nedanstående två kodblock. "
   ]
  },
  {
   "cell_type": "code",
   "execution_count": 12,
   "id": "41f1eb25-f4a6-4c22-8314-8257f86c2b33",
   "metadata": {},
   "outputs": [],
   "source": [
    "number = 8"
   ]
  },
  {
   "cell_type": "code",
   "execution_count": 13,
   "id": "66704f9a-6d15-482d-9e56-c17f6c77725e",
   "metadata": {},
   "outputs": [
    {
     "name": "stdout",
     "output_type": "stream",
     "text": [
      "Less than 10\n",
      "Less than 100\n"
     ]
    }
   ],
   "source": [
    "if number < 5:\n",
    "    print('Less than 5')\n",
    "if number < 10:\n",
    "    print('Less than 10')\n",
    "if number < 100:\n",
    "    print('Less than 100')"
   ]
  },
  {
   "cell_type": "code",
   "execution_count": 14,
   "id": "a92ec69b-045f-47f0-b9da-9e7c1eeb22bd",
   "metadata": {},
   "outputs": [
    {
     "name": "stdout",
     "output_type": "stream",
     "text": [
      "Less than 10\n"
     ]
    }
   ],
   "source": [
    "if number < 5:\n",
    "    print('Less than 5')\n",
    "elif number < 10:\n",
    "    print('Less than 10')\n",
    "elif number < 100:\n",
    "    print('Less than 100')"
   ]
  },
  {
   "cell_type": "code",
   "execution_count": null,
   "id": "9025daed-3349-4d06-90d9-4a39ba3e48e2",
   "metadata": {},
   "outputs": [],
   "source": []
  }
 ],
 "metadata": {
  "kernelspec": {
   "display_name": "Python 3 (ipykernel)",
   "language": "python",
   "name": "python3"
  },
  "language_info": {
   "codemirror_mode": {
    "name": "ipython",
    "version": 3
   },
   "file_extension": ".py",
   "mimetype": "text/x-python",
   "name": "python",
   "nbconvert_exporter": "python",
   "pygments_lexer": "ipython3",
   "version": "3.12.4"
  }
 },
 "nbformat": 4,
 "nbformat_minor": 5
}
