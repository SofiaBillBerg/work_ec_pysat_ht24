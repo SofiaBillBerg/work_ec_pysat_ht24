{
 "cells": [
  {
   "cell_type": "markdown",
   "id": "23348587-e00d-4dc8-b603-8fdc12591b26",
   "metadata": {},
   "source": [
    "# Uppgifter, Kapitel 2 - Datatyper"
   ]
  },
  {
   "cell_type": "markdown",
   "id": "37c66520-507d-461b-b58d-a08e1538d5b8",
   "metadata": {},
   "source": [
    "1. Addera de två talen nedan och spara resultaten i en variabel som heter my_result. Printa ut variabeln my_result. "
   ]
  },
  {
   "cell_type": "code",
   "execution_count": 33,
   "id": "a2ab13de-93b7-42aa-abce-a06135ac9071",
   "metadata": {},
   "outputs": [
    {
     "name": "stdout",
     "output_type": "stream",
     "text": [
      "8\n"
     ]
    }
   ],
   "source": [
    "num_1 = 5\n",
    "num_2 = 3\n",
    "calculate = num_1 + num_2\n",
    "my_result = calculate\n",
    "print(my_result)\n"
   ]
  },
  {
   "cell_type": "markdown",
   "id": "ead0cf9e",
   "metadata": {},
   "source": [
    "vid definerar två variabler, a och b, och ger dem värdena 10 och 20. med metoden calculate adderar vi talen och sparar resultatet i variabeln my_result. med kommandet print skriver vi ut resultatet."
   ]
  },
  {
   "cell_type": "markdown",
   "id": "83dc37e5-bc47-4906-9464-5f5de864d0d0",
   "metadata": {},
   "source": [
    "2. Multiplicera de två talen nedan och spara resultaten i en variabel som heter my_mult_result. Printa ut variabeln my_mult_result. "
   ]
  },
  {
   "cell_type": "code",
   "execution_count": 34,
   "id": "eb62bc41-035d-4ccc-9097-5d082c70b666",
   "metadata": {},
   "outputs": [
    {
     "name": "stdout",
     "output_type": "stream",
     "text": [
      "3\n"
     ]
    }
   ],
   "source": [
    "number_1 = 10\n",
    "number_2 = 7\n",
    "calculate = number_1 - number_2\n",
    "my_result = calculate\n",
    "print(my_result)\n"
   ]
  },
  {
   "cell_type": "markdown",
   "id": "f589852c",
   "metadata": {},
   "source": [
    "vid definerar två variabler, a och b, och ger dem värdena 10 och 20. med metoden calculate multiplicerar vi talen och sparar resultatet i variabeln my_mult_result. med kommandot print skriver vi ut resultatet."
   ]
  },
  {
   "cell_type": "markdown",
   "id": "c4a16f43-8963-4bf6-83d6-52e36df7081e",
   "metadata": {},
   "source": [
    "3. Förklara vad nedanstående kod gör. "
   ]
  },
  {
   "cell_type": "code",
   "execution_count": 35,
   "id": "b5ed8d34-c950-42c1-a9da-871ce00917fd",
   "metadata": {},
   "outputs": [
    {
     "data": {
      "text/plain": [
       "1"
      ]
     },
     "execution_count": 35,
     "metadata": {},
     "output_type": "execute_result"
    }
   ],
   "source": [
    "10 % 3"
   ]
  },
  {
   "cell_type": "markdown",
   "id": "ed4c7efc",
   "metadata": {
    "tags": [
     "devision_int_explain"
    ]
   },
   "source": [
    "3. Koden beräknar kvoten av de två talen. De båda talen är heltal med variabeln int och kommer därför returnera ett heltal. Python avrundar till närmsta heltal och returnerar det."
   ]
  },
  {
   "cell_type": "markdown",
   "id": "b5b721c3-d135-41ad-bccf-53f2062010c7",
   "metadata": {},
   "source": [
    "4. Vi vet att 27/6 = 4.5. Förklara vad nedanstående kod gör. "
   ]
  },
  {
   "cell_type": "code",
   "execution_count": 36,
   "id": "9797eb95-7c95-4fdd-a96b-7937d97d1fa1",
   "metadata": {},
   "outputs": [
    {
     "data": {
      "text/plain": [
       "4"
      ]
     },
     "execution_count": 36,
     "metadata": {},
     "output_type": "execute_result"
    }
   ],
   "source": [
    "27//6"
   ]
  },
  {
   "cell_type": "markdown",
   "id": "d61db2e4",
   "metadata": {},
   "source": [
    "Då vi använder variabeln int kommer Pythn returnera ett heltal. Talet avrundas till närmsta heltad nedåt och rutenerar det. Om vi vill att talet ska retuneras som decimaltal måste vi använda variabeln float."
   ]
  },
  {
   "cell_type": "markdown",
   "id": "b09593a9-5a3c-4fa0-80c2-85517d3afe42",
   "metadata": {},
   "source": [
    "5. Vad är fel i nedanstående kod? Rätta till koden så det fungerar. "
   ]
  },
  {
   "cell_type": "code",
   "execution_count": 37,
   "id": "1facaabc-d723-406b-aae2-b415bff3841b",
   "metadata": {},
   "outputs": [
    {
     "name": "stdout",
     "output_type": "stream",
     "text": [
      "it's fun to learn Python!\n"
     ]
    }
   ],
   "source": [
    "print (\"it's fun to learn Python!\")"
   ]
  },
  {
   "cell_type": "markdown",
   "id": "7c0ef094",
   "metadata": {
    "tags": [
     "string_explain"
    ]
   },
   "source": [
    "Strängen som ska skrivas ut är innebädad i en enkelkapsel. Då vi inuti strängen också använder en enkelkapsel för att använda \" it´s\" istället för exempel vis \"it is\" så kommer Python tolka det som att strängen avslutas efter \"it\". \n",
    "Det anses som best practice att använda cituationstecken \" \" runt en sträng för att undvika detta problem."
   ]
  },
  {
   "cell_type": "code",
   "execution_count": 38,
   "id": "841e4a89-e00d-417c-831a-fae673caea1e",
   "metadata": {},
   "outputs": [
    {
     "name": "stdout",
     "output_type": "stream",
     "text": [
      "it´s fun to learn Python!\n"
     ]
    }
   ],
   "source": [
    "print(\"it´s fun to learn Python!\")"
   ]
  },
  {
   "cell_type": "markdown",
   "id": "f76f7559-5898-4d11-ac9a-6efa10834993",
   "metadata": {
    "jp-MarkdownHeadingCollapsed": true
   },
   "source": [
    "6. Vad gör nedanstående kod? "
   ]
  },
  {
   "cell_type": "code",
   "execution_count": 39,
   "id": "e083b183-259a-4d3c-8309-d1f93c22c422",
   "metadata": {},
   "outputs": [
    {
     "name": "stdout",
     "output_type": "stream",
     "text": [
      "hahaha\n"
     ]
    }
   ],
   "source": [
    "print(\"ha\"*3)"
   ]
  },
  {
   "cell_type": "markdown",
   "id": "de470574",
   "metadata": {},
   "source": [
    "koden kommer upprepa strängen 3 gånger i rad och skriva ut det"
   ]
  },
  {
   "cell_type": "markdown",
   "id": "b393b9bc-f76b-4455-b02e-39b1f7506234",
   "metadata": {},
   "source": [
    "7. Extrahera namnet \"Anna\" från strängen nedan genom att göra en \"slice\". "
   ]
  },
  {
   "cell_type": "code",
   "execution_count": 40,
   "id": "4a45eccc-f5cc-479a-9a90-4859a0087f76",
   "metadata": {},
   "outputs": [
    {
     "name": "stdout",
     "output_type": "stream",
     "text": [
      "Anna\n"
     ]
    }
   ],
   "source": [
    "full_name = \"Anna Andersson\"\n",
    "slice = full_name[0:4]\n",
    "print(slice)"
   ]
  },
  {
   "cell_type": "markdown",
   "id": "c68eca29",
   "metadata": {
    "tags": [
     "slice_explain"
    ]
   },
   "source": [
    "genom att använda metoden slice kan vi extrahera en del av en sträng. I detta fall vill vi extrahera namnet \"Anna\" från strängen. Vi vet att namnet börjar på index 0 och slutar på index 4. Vi skriver därför [0:4] för att extrahera namnet."
   ]
  },
  {
   "cell_type": "markdown",
   "id": "8dc3e6bc-ae51-48d7-a274-1a17796d2809",
   "metadata": {},
   "source": [
    "8. Hur många tecken har strängen nedan? Använd len() funktionen. "
   ]
  },
  {
   "cell_type": "code",
   "execution_count": 41,
   "id": "844d00da-5756-495b-ad9b-924797666cb2",
   "metadata": {},
   "outputs": [
    {
     "data": {
      "text/plain": [
       "14"
      ]
     },
     "execution_count": 41,
     "metadata": {},
     "output_type": "execute_result"
    }
   ],
   "source": [
    "full_name = \"Anna Andersson\"\n",
    "len(full_name)"
   ]
  },
  {
   "cell_type": "markdown",
   "id": "de6fde61",
   "metadata": {
    "tags": [
     "len_explain"
    ]
   },
   "source": [
    "genom metoden len() kan vi räkna antalet tecken i en sträng. I detta fall har strängen 17 tecken."
   ]
  },
  {
   "cell_type": "markdown",
   "id": "8e877007-f018-4137-be93-0bc861d29867",
   "metadata": {},
   "source": [
    "9. a) Genom att använda en f-string med de två variablerna \"founder\" och \"language\", printa ut texten \"Hello Guido, Python is really fun to learn!\"\n",
    "    \n",
    "   b) Du vill nu skriva ut hela namnet \"Guido van Rossum\" så texten blir \"Hello Guido van Rossum, Python is really fun to learn!\", gör det genom att ändra namnet i variabeln founder och exekvera din f-string på nytt. "
   ]
  },
  {
   "cell_type": "code",
   "execution_count": 42,
   "id": "deddc199-0147-4598-b2cc-9e82dee75aac",
   "metadata": {},
   "outputs": [],
   "source": [
    "founder = \"Guido\"\n",
    "language = \"Python\""
   ]
  },
  {
   "cell_type": "code",
   "execution_count": null,
   "id": "6a1eaebd-6dfc-48f9-b10c-c23578d12c06",
   "metadata": {},
   "outputs": [],
   "source": []
  },
  {
   "cell_type": "markdown",
   "id": "f17c4485-d36d-42f0-900e-3d42cca59697",
   "metadata": {},
   "source": [
    "10. Varför blir koden nedan fel? "
   ]
  },
  {
   "cell_type": "code",
   "execution_count": 43,
   "id": "8feefe39-38ee-4549-b868-6f5c70ff8aab",
   "metadata": {},
   "outputs": [
    {
     "name": "stdout",
     "output_type": "stream",
     "text": [
      "(10, 5, 'hi', 3)\n"
     ]
    }
   ],
   "source": [
    "my_first_tuple = (10, 5, 'hi', 3)\n",
    "print(my_first_tuple) ## på detta sätt kommer tuple skrivas ut korrekt "
   ]
  },
  {
   "cell_type": "markdown",
   "id": "29d4cb41",
   "metadata": {},
   "source": [
    "my_first_tuple = (10, 5, 'hi', 3) är en tuple som är inmutable. Det betyder att vi inte kan ändra på den. Därför kommer koden nedan att ge ett felmeddelande.\n",
    "my_first_tuple[1] = 10"
   ]
  },
  {
   "cell_type": "code",
   "execution_count": 44,
   "id": "d62f9cf5-1210-4fb2-9046-24a77445b654",
   "metadata": {},
   "outputs": [
    {
     "name": "stdout",
     "output_type": "stream",
     "text": [
      "(10, 10, 'hi', 3)\n"
     ]
    }
   ],
   "source": [
    "my_first_tuple = (10, 5, 'hi', 3) ## gör om till lista för att kunna ändra värden\n",
    "\n",
    "my_first_tuple_list = list(my_first_tuple)\n",
    "my_first_tuple_list [1] = 10\n",
    "my_first_tuple = tuple(my_first_tuple_list) ## gör om till tuple igen\n",
    "print(my_first_tuple)"
   ]
  },
  {
   "cell_type": "markdown",
   "id": "6f9c35d1",
   "metadata": {},
   "source": [
    "då koden my_first_tuple[1] = 10 försöker ändra värdet för en touple, som är en immutable datatyp, kommer Python returnera ett felmeddelande. Om vi vill ändra värdet i en touple måste vi skapa en ny touple. det kan göras genom att skapa en ny touple med samma värden som den gamla touplen eller genom att sapa en list"
   ]
  },
  {
   "cell_type": "code",
   "execution_count": null,
   "id": "8652bd32-80d5-4533-8105-08fd26caae60",
   "metadata": {},
   "outputs": [],
   "source": []
  },
  {
   "cell_type": "markdown",
   "id": "9c5ba939-3b0f-4bd8-a4db-6a3f00a5f301",
   "metadata": {},
   "source": [
    "11. Vad gör koden nedan? "
   ]
  },
  {
   "cell_type": "code",
   "execution_count": 45,
   "id": "5593f11a-d9c1-48f0-98fc-95c1e0cd2ff5",
   "metadata": {},
   "outputs": [],
   "source": [
    "my_tuple = ('languages', ['Python', 'Java', 'C', 'R'], 'apples')"
   ]
  },
  {
   "cell_type": "code",
   "execution_count": 46,
   "id": "f514084a-d83f-457b-ad48-c7bc97dc9a5b",
   "metadata": {},
   "outputs": [
    {
     "name": "stdout",
     "output_type": "stream",
     "text": [
      "languages\n",
      "apples\n",
      "C\n"
     ]
    }
   ],
   "source": [
    "print(my_tuple[0])\n",
    "print(my_tuple[-1])\n",
    "print(my_tuple[1][2])"
   ]
  },
  {
   "cell_type": "code",
   "execution_count": null,
   "id": "8bf783fd-8f65-44a6-be20-03997857e31b",
   "metadata": {},
   "outputs": [],
   "source": []
  },
  {
   "cell_type": "markdown",
   "id": "4e35f734-7f04-48c3-94c9-9b61b8765c80",
   "metadata": {},
   "source": [
    "12. Kolla på vilken typ variabeln \"my_tuple\" har genom att använda type() funktionen. "
   ]
  },
  {
   "cell_type": "code",
   "execution_count": 47,
   "id": "dd5d2b45-cf14-4d64-8b46-e7ee584952e8",
   "metadata": {},
   "outputs": [
    {
     "data": {
      "text/plain": [
       "tuple"
      ]
     },
     "execution_count": 47,
     "metadata": {},
     "output_type": "execute_result"
    }
   ],
   "source": [
    "my_tuple = ('languages', ['Python', 'Java', 'C', 'R'], 'apples')\n",
    "type(my_tuple)"
   ]
  },
  {
   "cell_type": "code",
   "execution_count": null,
   "id": "adae2b5c-5042-421e-bb57-87d36f699f63",
   "metadata": {},
   "outputs": [],
   "source": []
  },
  {
   "cell_type": "markdown",
   "id": "7dad53ee-36ae-4a10-bbd8-5d4e1e038288",
   "metadata": {},
   "source": [
    "13. Vad gör koden nedan? "
   ]
  },
  {
   "cell_type": "code",
   "execution_count": 48,
   "id": "e7eb9381-edd0-4b6b-8ee5-721c8bdf1045",
   "metadata": {},
   "outputs": [],
   "source": [
    "my_first_list = [10, 5, 'hi', 3]"
   ]
  },
  {
   "cell_type": "markdown",
   "id": "523ee35e",
   "metadata": {},
   "source": [
    "Den skapar en lista med 10, 5, ´hi´ och 3 och sparar den i variabeln my_list."
   ]
  },
  {
   "cell_type": "code",
   "execution_count": 49,
   "id": "ac7db3c9-e3bc-4b62-8884-0614b8300826",
   "metadata": {},
   "outputs": [],
   "source": [
    "my_first_list = [10, 5, 'hi', 3]\n",
    "my_first_list[1] = 7"
   ]
  },
  {
   "cell_type": "markdown",
   "id": "5325c703",
   "metadata": {
    "tags": [
     "index_explain_swith"
    ]
   },
   "source": [
    "Varje element i listan har ett index och vi har 4 element i listan. Index börjar på 0 och går uppåt. När vi anger index 1 (my_first_list[1]=7) kommer Python byta ut elementet med index 1 till värdet 7. Detta då index 0 är det första elementet och i detta fall är 10 första i listan. Därmed är 5 det andra element och har index 1. För att Python sa veta vilket element som ska bytas ut måste listan vara definerad med aktuella element."
   ]
  },
  {
   "cell_type": "code",
   "execution_count": 50,
   "id": "c487f0e9-c92e-47b4-aa64-11ccd698fe2d",
   "metadata": {},
   "outputs": [
    {
     "data": {
      "text/plain": [
       "[10, 7, 'hi', 3]"
      ]
     },
     "execution_count": 50,
     "metadata": {},
     "output_type": "execute_result"
    }
   ],
   "source": [
    "my_first_list = [10, 5, 'hi', 3]\n",
    "my_first_list[1] = 7\n",
    "my_first_list"
   ]
  },
  {
   "cell_type": "markdown",
   "id": "a72d414f",
   "metadata": {
    "tags": [
     "index_explain_switch"
    ]
   },
   "source": [
    "När listans index med aktuella element är definerad och vi har gett en instruktion om att index 1 ska bytas till 7 använder vi koden my_first_list för att skriva ut den uppdaterade listan."
   ]
  },
  {
   "cell_type": "markdown",
   "id": "a78c8611-1861-43c3-849c-de99d89ec3a5",
   "metadata": {},
   "source": [
    "14. Se vilken typ variabeln \"my_first_list\" har genom att använda type() funktionen. "
   ]
  },
  {
   "cell_type": "code",
   "execution_count": 51,
   "id": "4f065703-0e14-4a97-b612-d26c9f902848",
   "metadata": {},
   "outputs": [
    {
     "data": {
      "text/plain": [
       "list"
      ]
     },
     "execution_count": 51,
     "metadata": {},
     "output_type": "execute_result"
    }
   ],
   "source": [
    "my_first_list = [10, 5, 'hi', 3]\n",
    "type(my_first_list)"
   ]
  },
  {
   "cell_type": "markdown",
   "id": "5f48e911",
   "metadata": {
    "tags": [
     "return_type"
    ]
   },
   "source": [
    "Med kommandot type följt av variabelnamnet kan vi se vilken typ av variabel eet är - i detta fall en lista"
   ]
  },
  {
   "cell_type": "markdown",
   "id": "f5e97d6a-d395-4fe7-b7ca-f50745ce5788",
   "metadata": {},
   "source": [
    "15. Beräkna antalet element i variabeln \"shopping_list\" genom att använda len() funktionen. "
   ]
  },
  {
   "cell_type": "code",
   "execution_count": 52,
   "id": "a53f5a80-5597-4d8d-a78b-6ec2526712a1",
   "metadata": {},
   "outputs": [
    {
     "data": {
      "text/plain": [
       "5"
      ]
     },
     "execution_count": 52,
     "metadata": {},
     "output_type": "execute_result"
    }
   ],
   "source": [
    "shopping_list = ['apple', 'banana', 'grapes', 'eggs', 'milk']\n",
    "len(shopping_list)\n"
   ]
  },
  {
   "cell_type": "markdown",
   "id": "99dfe5b8",
   "metadata": {
    "tags": [
     "len_explain"
    ]
   },
   "source": [
    "vi har definerat en lista med 5 element och använder len() för att räkna anatal element i listan."
   ]
  },
  {
   "cell_type": "markdown",
   "id": "70028e40-117b-4a1e-be20-a40737a4d5f3",
   "metadata": {},
   "source": [
    "16. Vi glömde att lägga till bröd (\"bread\" på engelska) i vår shopping lista. Gör det genom att använda append() metoden och printa ut den nya shopping listan. "
   ]
  },
  {
   "cell_type": "code",
   "execution_count": 53,
   "id": "a5cdb82d-84cf-4b39-a81c-eae88d2510dd",
   "metadata": {},
   "outputs": [
    {
     "name": "stdout",
     "output_type": "stream",
     "text": [
      "['apple', 'banana', 'grapes', 'eggs', 'milk', 'bread']\n"
     ]
    }
   ],
   "source": [
    "shopping_list = ['apple', 'banana', 'grapes', 'eggs', 'milk']\n",
    "shopping_list.append('bread')\n",
    "print(shopping_list)"
   ]
  },
  {
   "cell_type": "markdown",
   "id": "1af707e2",
   "metadata": {
    "tags": [
     "append_explain"
    ]
   },
   "source": [
    "med metoden .append() kan vi lägga till ett element i en lista. I detta fall lägger vi till \"bread\" i listan shopping_list. Vi använder sedan print för att skriva ut den uppdaterade listan."
   ]
  },
  {
   "cell_type": "markdown",
   "id": "61b2971a-7e1a-4f73-8d54-a867336fd62d",
   "metadata": {},
   "source": [
    "17. Beräkna antalet gånger siffran 7 finns i listan \"my_numbers\". Använd count() metoden."
   ]
  },
  {
   "cell_type": "code",
   "execution_count": 54,
   "id": "43201e79-9440-4c4f-8382-db81b3d1d5f2",
   "metadata": {},
   "outputs": [
    {
     "name": "stdout",
     "output_type": "stream",
     "text": [
      "3\n"
     ]
    }
   ],
   "source": [
    "my_numbers = [1, 7, 2, 7, 10, 7]\n",
    "my_number_count = my_numbers.count(7)\n",
    "print(my_number_count)\n"
   ]
  },
  {
   "cell_type": "markdown",
   "id": "efb9ebcd",
   "metadata": {
    "tags": [
     "count_explain"
    ]
   },
   "source": [
    "med metoden .count() kan vi räkna antalet gånger ett element finns i en lista. I detta fall räknar vi antalet gånger siffran 7 finns i listan my_numbers. med print skriver vi ut antalet gånger siffran 7 finns i listan."
   ]
  },
  {
   "cell_type": "markdown",
   "id": "ecf53b6c-8862-435c-a863-a4e91208e312",
   "metadata": {},
   "source": [
    "18. Konvertera \"one_tuple\" till en lista och spara det i en variabel som heter \"one_list\". "
   ]
  },
  {
   "cell_type": "code",
   "execution_count": 55,
   "id": "ac2502db-ef2e-4a8b-bc0b-f152284de5ed",
   "metadata": {},
   "outputs": [
    {
     "name": "stdout",
     "output_type": "stream",
     "text": [
      "[10, 5, 3]\n"
     ]
    },
    {
     "data": {
      "text/plain": [
       "list"
      ]
     },
     "execution_count": 55,
     "metadata": {},
     "output_type": "execute_result"
    }
   ],
   "source": [
    "one_tuple = (10, 5, 3)\n",
    "one_list = list(one_tuple)\n",
    "print(one_list)\n",
    "type(one_list)"
   ]
  },
  {
   "cell_type": "markdown",
   "id": "972f6864",
   "metadata": {
    "tags": [
     "tuple_list_explain"
    ]
   },
   "source": [
    "touple är en metod som används för att skapa en unmuteable lista. För att konvertera en touple till en lista använder vi metoden list() och sparar den i en variabel som heter one_list. för att kontrollera att konverteringen har skett korrekt använder vi print för att skriva ut den nya listan."
   ]
  },
  {
   "cell_type": "markdown",
   "id": "a8a5adfb-ee63-4b53-bfc4-11b88dc3125b",
   "metadata": {},
   "source": [
    "19. Vad gör nedanstående kod? "
   ]
  },
  {
   "cell_type": "code",
   "execution_count": 56,
   "id": "b777a396-0ecb-4eb5-bd7a-f56d5dd22076",
   "metadata": {},
   "outputs": [],
   "source": [
    "my_first_dict = {'Anna': 38, 'Goran': 19, 'Lennart': 59, 'Halimah': 28}"
   ]
  },
  {
   "cell_type": "markdown",
   "id": "806b7878",
   "metadata": {
    "tags": [
     "dict_explain"
    ]
   },
   "source": [
    "vi skapar en dictionary med nyckel och värde. om vi vill skriva ut dictionaryn kan vi använda print för att skriva ut hela dictionaryn eller använda print för att skriva ut en specifik nyckel och dess värde. värdet i dictionaryn kan vara en sträng, en siffra eller en lista och nyckeln kan vara en sträng eller en siffra. i detta fall har vi en dictionary med nyckeln \"name\" och värdet \"Anna\". för att skriva ut hela dictionaryn använder vi print och för att skriva ut en specifik nyckel och dess värde använder vi print(dictionary[\"name\"])."
   ]
  },
  {
   "cell_type": "markdown",
   "id": "b7f85c21-7e31-4505-af1b-8868c4f2b25a",
   "metadata": {},
   "source": [
    "20. Kolla på vilken typ variabeln \"my_first_dict\" har genom att använda type() funktionen. "
   ]
  },
  {
   "cell_type": "code",
   "execution_count": 57,
   "id": "0312809b-9feb-4cdc-819f-fcb2caccb6b6",
   "metadata": {},
   "outputs": [
    {
     "data": {
      "text/plain": [
       "dict"
      ]
     },
     "execution_count": 57,
     "metadata": {},
     "output_type": "execute_result"
    }
   ],
   "source": [
    "my_first_dict = {'Anna': 38, 'Goran': 19, 'Lennart': 59, 'Halimah': 28}\n",
    "type(my_first_dict)\n"
   ]
  },
  {
   "cell_type": "markdown",
   "id": "ab4a9f2a",
   "metadata": {},
   "source": [
    "vi använder metoden type() för att se vilken typ av variabel my_first_dict är. i detta fall är det en dictionary."
   ]
  },
  {
   "cell_type": "markdown",
   "id": "41f2c638-7185-46a3-b0cf-42a529ba44e9",
   "metadata": {},
   "source": [
    "21. Varför printas element 5 endast ut en gång i koden nedan?"
   ]
  },
  {
   "cell_type": "code",
   "execution_count": 58,
   "id": "397c0683-56ec-4e7a-9463-96a6a14c5266",
   "metadata": {},
   "outputs": [
    {
     "name": "stdout",
     "output_type": "stream",
     "text": [
      "{10, 2, 5}\n"
     ]
    }
   ],
   "source": [
    "my_set = {10, 5, 2, 5, 5} \n",
    "print(my_set)"
   ]
  },
  {
   "cell_type": "markdown",
   "id": "c40ff6ee",
   "metadata": {
    "tags": [
     "my_set_explain"
    ]
   },
   "source": [
    "när vi använder variabeln set kommer Python att endast skriva ut unika element. i detta fall har vi en lista med 5 element och använder set för att skapa en set med unika element. då vi har två element med värdet 5 kommer Python endast skriva ut ett av dem."
   ]
  },
  {
   "cell_type": "markdown",
   "id": "503b662c-9695-4d0c-8542-1be01e94ed6a",
   "metadata": {},
   "source": [
    "22. Vi har definierat de två mängderna A och B nedan. \n",
    "\n",
    "a) Hitta alla element som är i både A och B. Använd intersection() metoden. \n",
    "\n",
    "b) Hitta alla element som är i A och/eller B. Använd union() metoden. \n",
    "\n",
    "c) Hitta alla element som är i A men inte i B. Använd difference() metoden. "
   ]
  },
  {
   "cell_type": "code",
   "execution_count": 59,
   "id": "4a32d0b4-aba0-4258-a3c8-b34cde69bc39",
   "metadata": {},
   "outputs": [
    {
     "name": "stdout",
     "output_type": "stream",
     "text": [
      "{3, 5}\n",
      "{1, 2, 3, 4, 5, 7, 10}\n",
      "{1, 2, 4}\n",
      "{1, 2, 4, 7, 10}\n"
     ]
    }
   ],
   "source": [
    "A = {1, 2, 3, 4, 5} \n",
    "B = {3, 10, 5, 7}\n",
    "intersection = A & B\n",
    "print(intersection)\n",
    "union = A | B\n",
    "print(union)\n",
    "difference = A - B\n",
    "print(difference)\n",
    "symmetric_difference = A ^ B\n",
    "print(symmetric_difference)"
   ]
  },
  {
   "cell_type": "markdown",
   "id": "08a44fae",
   "metadata": {
    "tags": [
     "show_symmetric_difference_variable_explain"
    ]
   },
   "source": [
    "vi har definerat variablerna A och B som mängder. för att hitta alla element som är i både A och B använder vi metoden .intersection(). för att hitta alla element som är i A och/eller B använder vi metoden .union(). för att hitta alla element som finns i A men inte i B använder vi metoden .difference(). vi använder print för att skriva ut de olika resultaten. vill vi istället beräkna antalet i som finns i B men inte i A använder vi metoden .difference() på B. vi kan också använda metoden .symmetric_difference() för att hitta alla element som finns i antingen A eller B. \n"
   ]
  },
  {
   "cell_type": "markdown",
   "id": "d684ac28-fdb8-4d9c-8b15-f44acec80de1",
   "metadata": {},
   "source": [
    "23. Vi har definierat det två listorna \"list_a\" och \"list_b\" nedan. Nedanstående uppgifter kan enkelt lösas genom att konvertera de definierade listorna till mängder först. \n",
    "\n",
    "a) Hitta alla element som är i både list_a och list_b.\n",
    "\n",
    "b) Hitta alla element som är i list_a och/eller list_a."
   ]
  },
  {
   "cell_type": "code",
   "execution_count": 60,
   "id": "fb48b26e-933e-4c14-8fa5-e24ee6c749b5",
   "metadata": {},
   "outputs": [
    {
     "name": "stdout",
     "output_type": "stream",
     "text": [
      "{5}\n",
      "{1, 2, 3, 4, 5, 6, 10, 21}\n",
      "{1, 2, 3, 4}\n",
      "{1, 2, 3, 4, 6, 10, 21}\n"
     ]
    }
   ],
   "source": [
    "list_a = [1, 2, 3, 4, 5]\n",
    "list_b = [5, 6, 10, 21]\n",
    "A = set(list_a)\n",
    "B = set(list_b)\n",
    "intersection = A & B\n",
    "print(intersection)\n",
    "union = A | B\n",
    "print(union)\n",
    "difference = A - B\n",
    "print(difference)\n",
    "symmetric_difference = A ^ B\n",
    "print(symmetric_difference)\n"
   ]
  },
  {
   "cell_type": "markdown",
   "id": "f1418a0b",
   "metadata": {
    "tags": [
     "switch_list_amount_difference_symmetry_intercetion_union"
    ]
   },
   "source": [
    "vi har definerat två listor med olika värden, därefter konverterar vi listorna till mängder för att kunna använda metoder som .intersection() och .union(). för att hitta alla element som är i både list_a och list_b använder vi metoden .intersection(). för att hitta alla element som är i list_a och/eller list_b använder vi metoden .union(). vi använder print för att skriva ut de olika resultaten."
   ]
  },
  {
   "cell_type": "markdown",
   "id": "30001930-633f-4a20-bd2b-2ee190c10eab",
   "metadata": {},
   "source": [
    "24. Hitta alla unika element i variabeln \"duplicate_values\" genom att konvertera \"tuplen\" till en \"set\". "
   ]
  },
  {
   "cell_type": "code",
   "execution_count": 61,
   "id": "76c9fdd2-bd75-4fa1-b7a0-0ac15a850511",
   "metadata": {},
   "outputs": [
    {
     "data": {
      "text/plain": [
       "{1, 2, 10}"
      ]
     },
     "execution_count": 61,
     "metadata": {},
     "output_type": "execute_result"
    }
   ],
   "source": [
    "duplicate_values = (10, 2, 2, 10, 1)\n",
    "my_set = set(duplicate_values)\n",
    "my_set"
   ]
  },
  {
   "cell_type": "code",
   "execution_count": null,
   "id": "ab80492a-b1eb-4487-aae5-d9d809bb830c",
   "metadata": {},
   "outputs": [],
   "source": []
  },
  {
   "cell_type": "code",
   "execution_count": 62,
   "id": "8ee3b35f",
   "metadata": {},
   "outputs": [
    {
     "data": {
      "text/plain": [
       "{3, 5, 6, 10, 44, 45}"
      ]
     },
     "execution_count": 62,
     "metadata": {},
     "output_type": "execute_result"
    }
   ],
   "source": [
    "my_list_2 = [5, 3, 6, 10, 44, 45, 44] \n",
    "my_set_2 = set(my_list_2)\n",
    "my_set_2"
   ]
  },
  {
   "cell_type": "markdown",
   "id": "14ab476c",
   "metadata": {
    "tags": [
     "set_explaination"
    ]
   },
   "source": [
    "En ett set kan endast innehålla unika värden och kommer därför endast retunera de värden på min lista som inte är dubbleter. Ett set kommer sortera listan i stigande ordning och kallas därför för en \"unordered collection\". Till skillnad från en lista som är en \"ordered collection\" som kommer returnera listan i samma ordning som värdena har listats. av den anledningen är det viktigt att komma ihåg att ett set inte kommer returnera värdena i samma ordning som de har listats, den kommer heller inte returnera dubbleter. Särskilt viktigt är det i de fall som vi vill behålla ordning på listan och att samtliga värden ska returneras."
   ]
  }
 ],
 "metadata": {
  "kernelspec": {
   "display_name": "Python 3 (ipykernel)",
   "language": "python",
   "name": "python3"
  },
  "language_info": {
   "codemirror_mode": {
    "name": "ipython",
    "version": 3
   },
   "file_extension": ".py",
   "mimetype": "text/x-python",
   "name": "python",
   "nbconvert_exporter": "python",
   "pygments_lexer": "ipython3",
   "version": "3.12.4"
  }
 },
 "nbformat": 4,
 "nbformat_minor": 5
}
