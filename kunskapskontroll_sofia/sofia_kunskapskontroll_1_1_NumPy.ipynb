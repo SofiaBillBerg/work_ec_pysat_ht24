{
 "cells": [
  {
   "metadata": {},
   "cell_type": "markdown",
   "source": "# Sofia Billger Bergström - Kunskapskontroll 1.1 - NumPy",
   "id": "c819a5ad2ecc7fe6"
  },
  {
   "metadata": {},
   "cell_type": "markdown",
   "source": "# NumPy",
   "id": "dacf74e6"
  },
  {
   "cell_type": "markdown",
   "id": "01b2bf34",
   "metadata": {},
   "source": [
    "Read the links: https://numpy.org/doc/stable/user/quickstart.html  and https://numpy.org/doc/stable/user/basics.broadcasting.html  before solving the exercises. "
   ]
  },
  {
   "cell_type": "code",
   "id": "1f79e4a6",
   "metadata": {
    "ExecuteTime": {
     "end_time": "2024-10-16T21:27:20.045822Z",
     "start_time": "2024-10-16T21:27:20.039867Z"
    }
   },
   "source": "import numpy as np",
   "outputs": [],
   "execution_count": 7
  },
  {
   "cell_type": "markdown",
   "id": "7dae6889",
   "metadata": {},
   "source": [
    "### Print out the dimension (number of axes), shape, size and the datatype of the matrix A."
   ]
  },
  {
   "cell_type": "code",
   "id": "7b3678cd",
   "metadata": {
    "ExecuteTime": {
     "end_time": "2024-10-16T21:27:20.082877Z",
     "start_time": "2024-10-16T21:27:20.079877Z"
    }
   },
   "source": "A = np.arange(1, 16).reshape(3, 5)",
   "outputs": [],
   "execution_count": 8
  },
  {
   "cell_type": "code",
   "id": "31d39235",
   "metadata": {
    "ExecuteTime": {
     "end_time": "2024-10-17T10:32:17.661115Z",
     "start_time": "2024-10-17T10:32:17.630304Z"
    }
   },
   "source": [
    "import numpy as np\n",
    "\n",
    "\n",
    "def arrange(start, stop, step, shape):  # Function to create a matrix with a given shape\n",
    "    A = np.arange(start, stop, step)\n",
    "    A = A.reshape(shape)\n",
    "    return A\n",
    "\n",
    "\n",
    "A = np.arange(1, 16).reshape(3, 5)  # 1-15 inclusive in 3x5 matrix form\n",
    "type(A)\n",
    "print(A, type(A))\n",
    "print(arrange(1, 16, 1, (3, 5)))\n",
    "print(arrange(1, 16, 1, (3, 5)).dtype)"
   ],
   "outputs": [
    {
     "name": "stdout",
     "output_type": "stream",
     "text": [
      "[[ 1  2  3  4  5]\n",
      " [ 6  7  8  9 10]\n",
      " [11 12 13 14 15]] <class 'numpy.ndarray'>\n",
      "[[ 1  2  3  4  5]\n",
      " [ 6  7  8  9 10]\n",
      " [11 12 13 14 15]]\n",
      "int64\n"
     ]
    }
   ],
   "execution_count": 66
  },
  {
   "cell_type": "markdown",
   "id": "2494c3b2",
   "metadata": {},
   "source": "the code above creates a 3x5 matrix with values from 1 to 15. The type of the matrix is numpy.ndarray. // Sofia"
  },
  {
   "cell_type": "markdown",
   "id": "e56d2a96",
   "metadata": {},
   "source": [
    "### Do the following computations on the matrices B and C: \n",
    "* Elementwise subtraction. \n",
    "* Elementwise multiplication. \n",
    "* Matrix multiplication (by default you should use the @ operator)."
   ]
  },
  {
   "cell_type": "code",
   "id": "a7053fbb",
   "metadata": {
    "ExecuteTime": {
     "end_time": "2024-10-16T21:27:20.159661Z",
     "start_time": "2024-10-16T21:27:20.156618Z"
    }
   },
   "source": [
    "B = np.arange(1, 10).reshape(3, 3)\n",
    "C = np.ones((3, 3)) * 2\n",
    "\n",
    "print(B)\n",
    "print()\n",
    "print(C)"
   ],
   "outputs": [
    {
     "name": "stdout",
     "output_type": "stream",
     "text": [
      "[[1 2 3]\n",
      " [4 5 6]\n",
      " [7 8 9]]\n",
      "\n",
      "[[2. 2. 2.]\n",
      " [2. 2. 2.]\n",
      " [2. 2. 2.]]\n"
     ]
    }
   ],
   "execution_count": 10
  },
  {
   "cell_type": "code",
   "id": "3cd794ae",
   "metadata": {
    "ExecuteTime": {
     "end_time": "2024-10-16T21:27:20.215748Z",
     "start_time": "2024-10-16T21:27:20.209878Z"
    }
   },
   "source": [
    "import numpy as np\n",
    "\n",
    "\n",
    "# Function to create a matrix with a given shape\n",
    "def arrange(start, stop, step, shape):\n",
    "    A = np.arange(start, stop, step)\n",
    "    A = A.reshape(shape)\n",
    "    return A\n",
    "\n",
    "\n",
    "# Create the matrices B and C\n",
    "B = np.arange(1, 10).reshape(3, 3)\n",
    "C = np.ones((3, 3)) * 2\n",
    "\n",
    "subtract = B - C  # Elementwise subtraction\n",
    "print(subtract)\n",
    "\n",
    "multiply = B * C  # Elementwise multiplication\n",
    "print(multiply)\n",
    "\n",
    "matrix_multiply = B @ C  # Matrix multiplication\n",
    "print(matrix_multiply)\n"
   ],
   "outputs": [
    {
     "name": "stdout",
     "output_type": "stream",
     "text": [
      "[[-1.  0.  1.]\n",
      " [ 2.  3.  4.]\n",
      " [ 5.  6.  7.]]\n",
      "[[ 2.  4.  6.]\n",
      " [ 8. 10. 12.]\n",
      " [14. 16. 18.]]\n",
      "[[12. 12. 12.]\n",
      " [30. 30. 30.]\n",
      " [48. 48. 48.]]\n"
     ]
    }
   ],
   "execution_count": 11
  },
  {
   "cell_type": "markdown",
   "id": "a40fdabd",
   "metadata": {},
   "source": "after defining the matrices B and C, the code above calculates the elementwise subtraction, elementwise multiplication and matrix multiplication for the matrices. // Sofia"
  },
  {
   "cell_type": "markdown",
   "id": "96030d53",
   "metadata": {},
   "source": [
    "### Do the following calculations on the matrix:\n",
    "* Exponentiate each number elementwise (use the np.exp function).\n",
    "\n",
    "* Calculate the minimum value in the whole matrix. \n",
    "* Calculate the minimum value in each row. \n",
    "* Calculate the minimum value in each column. \n",
    "\n",
    "\n",
    "* Find the index value for the minimum value in the whole matrix (hint: use np.argmin).\n",
    "* Find the index value for the minimum value in each row (hint: use np.argmin).\n",
    "\n",
    "\n",
    "* Calculate the sum for all elements.\n",
    "* Calculate the mean for each column. \n",
    "* Calculate the median for each column. "
   ]
  },
  {
   "cell_type": "code",
   "id": "f8a9166b",
   "metadata": {
    "ExecuteTime": {
     "end_time": "2024-10-16T21:38:23.463870Z",
     "start_time": "2024-10-16T21:38:23.438837Z"
    }
   },
   "source": [
    "## B = np.arange(1, 10).reshape(3, 3)\n",
    "## print(B)"
   ],
   "outputs": [],
   "execution_count": 28
  },
  {
   "cell_type": "code",
   "id": "f03f24f7",
   "metadata": {
    "ExecuteTime": {
     "end_time": "2024-10-16T21:38:31.478648Z",
     "start_time": "2024-10-16T21:38:31.466772Z"
    }
   },
   "source": [
    "import numpy as np\n",
    "\n",
    "\n",
    "# Function to create a matrix with a given shape\n",
    "def arrange(start, stop, step, shape):\n",
    "    B = np.arange(start, stop, step)\n",
    "    B = B.reshape(shape)\n",
    "    return B\n",
    "\n",
    "\n",
    "B = np.arange(1, 10).reshape(3, 3)  # Create a 3x3 matrix with values from 1 to 9\n",
    "print(B)\n",
    "\n",
    "np.set_printoptions(\n",
    "    formatter={\"int\": lambda x: \"{0:3d}\".format(x)})  # set print options to print integers with 3 digits\n",
    "\n",
    "# Calculate accordingly to the instructions above and print the result \n",
    "print(np.exp(B), np.min(B), np.min(B, axis=0),\n",
    "      np.min(B, axis=1), np.argmin(B), np.argmin(B, axis=0),\n",
    "      np.argmin(B, axis=1), np.sum(B), np.mean(B, axis=0),\n",
    "      np.mean(B, axis=1), np.median(B, axis=1))\n",
    "\n",
    "\n"
   ],
   "outputs": [
    {
     "name": "stdout",
     "output_type": "stream",
     "text": [
      "[[  1   2   3]\n",
      " [  4   5   6]\n",
      " [  7   8   9]]\n",
      "[[2.71828183e+00 7.38905610e+00 2.00855369e+01]\n",
      " [5.45981500e+01 1.48413159e+02 4.03428793e+02]\n",
      " [1.09663316e+03 2.98095799e+03 8.10308393e+03]] 1 [  1   2   3] [  1   4   7] 0 [  0   0   0] [  0   0   0] 45 [4. 5. 6.] [2. 5. 8.] [2. 5. 8.]\n"
     ]
    }
   ],
   "execution_count": 30
  },
  {
   "metadata": {},
   "cell_type": "markdown",
   "source": "The definition and method calls above creates a 3x3 matrix with values from 1 to 9 and calculates the exponentiation, minimum value in the whole matrix, minimum value in each row, minimum value in each column, index value for the minimum value in the whole matrix, index value for the minimum value in each row, sum for all elements, mean for each column and median for each column. // Sofia",
   "id": "d1c31c025c177d49"
  },
  {
   "cell_type": "markdown",
   "id": "541eb7ba",
   "metadata": {},
   "source": [
    "### What does it mean when you provide fewer indices than axes when slicing? See example below."
   ]
  },
  {
   "cell_type": "code",
   "id": "9c8abf56",
   "metadata": {
    "ExecuteTime": {
     "end_time": "2024-10-16T21:27:20.386547Z",
     "start_time": "2024-10-16T21:27:20.383312Z"
    }
   },
   "source": [
    "print(A)"
   ],
   "outputs": [
    {
     "name": "stdout",
     "output_type": "stream",
     "text": [
      "[[  1   2   3   4   5]\n",
      " [  6   7   8   9  10]\n",
      " [ 11  12  13  14  15]]\n"
     ]
    }
   ],
   "execution_count": 14
  },
  {
   "cell_type": "code",
   "id": "69415f7b",
   "metadata": {
    "ExecuteTime": {
     "end_time": "2024-10-16T21:27:20.436143Z",
     "start_time": "2024-10-16T21:27:20.426917Z"
    }
   },
   "source": [
    "A[1]"
   ],
   "outputs": [
    {
     "data": {
      "text/plain": [
       "array([  6,   7,   8,   9,  10])"
      ]
     },
     "execution_count": 15,
     "metadata": {},
     "output_type": "execute_result"
    }
   ],
   "execution_count": 15
  },
  {
   "cell_type": "markdown",
   "id": "6c53541b",
   "metadata": {},
   "source": "**Answer:** When you provide fewer indices than axes when slicing, it will return the entire row for the given column index. Therefore, in the example above it will return the second row since the index is 1. In this case, a 1D array. // Sofia"
  },
  {
   "cell_type": "markdown",
   "id": "6652d0c9",
   "metadata": {},
   "source": "### Iterating over multidimensional arrays is done with respect to the first axis, so in the example below we iterate through the rows. If you would like to iterate through the array *elementwise*, how would you do that?"
  },
  {
   "cell_type": "code",
   "id": "9459864f",
   "metadata": {
    "ExecuteTime": {
     "end_time": "2024-10-16T21:27:20.464493Z",
     "start_time": "2024-10-16T21:27:20.461693Z"
    }
   },
   "source": [
    "A"
   ],
   "outputs": [
    {
     "data": {
      "text/plain": [
       "array([[  1,   2,   3,   4,   5],\n",
       "       [  6,   7,   8,   9,  10],\n",
       "       [ 11,  12,  13,  14,  15]])"
      ]
     },
     "execution_count": 16,
     "metadata": {},
     "output_type": "execute_result"
    }
   ],
   "execution_count": 16
  },
  {
   "cell_type": "code",
   "id": "a671bb5a",
   "metadata": {
    "ExecuteTime": {
     "end_time": "2024-10-16T21:27:20.490975Z",
     "start_time": "2024-10-16T21:27:20.488564Z"
    }
   },
   "source": [
    "for i in A:\n",
    "    print(i)"
   ],
   "outputs": [
    {
     "name": "stdout",
     "output_type": "stream",
     "text": [
      "[  1   2   3   4   5]\n",
      "[  6   7   8   9  10]\n",
      "[ 11  12  13  14  15]\n"
     ]
    }
   ],
   "execution_count": 17
  },
  {
   "metadata": {},
   "cell_type": "markdown",
   "source": "**Answer:** To iterate through the array elementwise, you can use the flat attribute, as I use in the code below. // Sofia",
   "id": "61ee3bf6194a175c"
  },
  {
   "metadata": {
    "ExecuteTime": {
     "end_time": "2024-10-16T21:27:21.201051Z",
     "start_time": "2024-10-16T21:27:21.196908Z"
    }
   },
   "cell_type": "code",
   "source": [
    "for i in A.flat:\n",
    "    print(i)"
   ],
   "id": "f16e07ca0c55da73",
   "outputs": [
    {
     "name": "stdout",
     "output_type": "stream",
     "text": [
      "1\n",
      "2\n",
      "3\n",
      "4\n",
      "5\n",
      "6\n",
      "7\n",
      "8\n",
      "9\n",
      "10\n",
      "11\n",
      "12\n",
      "13\n",
      "14\n",
      "15\n"
     ]
    }
   ],
   "execution_count": 18
  },
  {
   "cell_type": "markdown",
   "id": "608a2583",
   "metadata": {},
   "source": [
    "### Explain what the code below does. More specifically, b has three axes - what does this mean? "
   ]
  },
  {
   "cell_type": "code",
   "id": "f8f9b26f",
   "metadata": {
    "ExecuteTime": {
     "end_time": "2024-10-16T21:27:21.347360Z",
     "start_time": "2024-10-16T21:27:21.341866Z"
    }
   },
   "source": [
    "a = np.arange(30)  # Create an array with values from 0 to 29\n",
    "b = a.reshape((2, 3, -1))  # Reshape the array into a 3D array\n",
    "print(a)  # Print the array\n",
    "print()  # Print a blank line\n",
    "\n",
    "print(b)  # Print the 3D array"
   ],
   "outputs": [
    {
     "name": "stdout",
     "output_type": "stream",
     "text": [
      "[  0   1   2   3   4   5   6   7   8   9  10  11  12  13  14  15  16  17\n",
      "  18  19  20  21  22  23  24  25  26  27  28  29]\n",
      "\n",
      "[[[  0   1   2   3   4]\n",
      "  [  5   6   7   8   9]\n",
      "  [ 10  11  12  13  14]]\n",
      "\n",
      " [[ 15  16  17  18  19]\n",
      "  [ 20  21  22  23  24]\n",
      "  [ 25  26  27  28  29]]]\n"
     ]
    }
   ],
   "execution_count": 19
  },
  {
   "cell_type": "markdown",
   "id": "94f6ca2f",
   "metadata": {},
   "source": "Answer:  Since the B arrays has three axes, the code reshapes the array into a 3D array. -1 is used to automatically calculate the size of the third axis. Using print() between the two point statements a blank line will separate them. // Sofia"
  },
  {
   "cell_type": "markdown",
   "id": "ab5933d5",
   "metadata": {},
   "source": [
    "### Broadcasting\n",
    "**Read the following link about broadcasting: https://numpy.org/doc/stable/user/basics.broadcasting.html#basics-broadcasting**"
   ]
  },
  {
   "cell_type": "markdown",
   "id": "039805ba",
   "metadata": {},
   "source": [
    "# Remark on Broadcasting when doing Linear Algebra calculations in Python. "
   ]
  },
  {
   "cell_type": "markdown",
   "id": "c4bcc147",
   "metadata": {},
   "source": [
    "### From the mathematical rules of matrix addition, the operation below (m1 + m2) does not make sense. The reason is that matrix addition requires two matrices of the same size. In Python however, it works due to broadcasting rules in NumPy. So you must be careful when doing Linear Algebra calculations in Python since they do not follow the \"mathematical rules\". This can however easily be handled by doing some simple programming, for example validating that two matrices have the same shape is easy if you for instance want to add two matrices. "
   ]
  },
  {
   "cell_type": "code",
   "id": "1fd46778",
   "metadata": {
    "ExecuteTime": {
     "end_time": "2024-10-16T21:27:21.404046Z",
     "start_time": "2024-10-16T21:27:21.399133Z"
    }
   },
   "source": [
    "m1 = np.array([[1, 2], [3, 4]])\n",
    "m2 = np.array([1, 1])\n",
    "print(m1 + m2)"
   ],
   "outputs": [
    {
     "name": "stdout",
     "output_type": "stream",
     "text": [
      "[[  2   3]\n",
      " [  4   5]]\n"
     ]
    }
   ],
   "execution_count": 20
  },
  {
   "cell_type": "markdown",
   "id": "db621ad2",
   "metadata": {},
   "source": ""
  },
  {
   "cell_type": "markdown",
   "id": "047d6576",
   "metadata": {},
   "source": [
    "### The example below would also not be allowed if following the \"mathematical rules\" in Linear Algebra. But it works due to broadcasting in NumPy. "
   ]
  },
  {
   "cell_type": "code",
   "id": "5e6ef2e4",
   "metadata": {
    "ExecuteTime": {
     "end_time": "2024-10-16T21:27:21.465310Z",
     "start_time": "2024-10-16T21:27:21.463426Z"
    }
   },
   "source": [
    "v1 = np.array([1, 2, 3])\n",
    "print(v1 + 1)"
   ],
   "outputs": [
    {
     "name": "stdout",
     "output_type": "stream",
     "text": [
      "[  2   3   4]\n"
     ]
    }
   ],
   "execution_count": 21
  },
  {
   "cell_type": "code",
   "id": "e2cbae26",
   "metadata": {
    "ExecuteTime": {
     "end_time": "2024-10-16T21:27:21.508297Z",
     "start_time": "2024-10-16T21:27:21.506093Z"
    }
   },
   "source": [
    "A = np.arange(1, 5).reshape(2, 2)\n",
    "print(A)\n",
    "\n",
    "b = np.array([2, 2])\n",
    "print(b)"
   ],
   "outputs": [
    {
     "name": "stdout",
     "output_type": "stream",
     "text": [
      "[[  1   2]\n",
      " [  3   4]]\n",
      "[  2   2]\n"
     ]
    }
   ],
   "execution_count": 22
  },
  {
   "cell_type": "markdown",
   "id": "f508036a",
   "metadata": {},
   "source": [
    "mathematical rules in Linear Algebra would not allow the operation below. However, it works due to broadcasting in NumPy."
   ]
  },
  {
   "cell_type": "markdown",
   "id": "722fd5cd",
   "metadata": {},
   "source": [
    "# Vector- and matrix algebra Exercises"
   ]
  },
  {
   "cell_type": "markdown",
   "id": "b63a3081-d976-4d9f-bfd0-a63917e79f7d",
   "metadata": {},
   "source": [
    "**Now you are going to create a function that can be reused every time you add or multiply matrices. The function is created so that we do the addition and multiplication according to the rules of vector- and matrix algebra.**\n",
    "\n",
    "**Create a function \"add_mult_matrices\" that takes two matrices as input arguments (validate that the input are of the type numpy.ndarray by using the isinstance function), a third argument that is either 'add' or 'multiply' that specifies if you want to add or multiply the matrices (validate that the third argument is either 'add' or 'multiply'). When doing matrix addition, validate that the matrices have the same size. When doing matrix multiplication, validate that the sizes conform (i.e. number of columns in the first matrix is equal to the number of rows in the second matrix).**"
   ]
  },
  {
   "metadata": {
    "ExecuteTime": {
     "end_time": "2024-10-17T10:28:21.076534Z",
     "start_time": "2024-10-17T10:28:21.061801Z"
    }
   },
   "cell_type": "code",
   "source": [
    "\n",
    "\n",
    "def validate_input(matrix1, matrix2, add_or_multiply):\n",
    "    if not isinstance(matrix1, np.ndarray) or not isinstance(matrix2, np.ndarray):  # Validate input\n",
    "        return \"Input must be numpy.ndarray\"\n",
    "    if add_or_multiply is not None and not isinstance(add_or_multiply, str):  # Validate input\n",
    "        return \"Third argument must be a string\"\n",
    "    if add_or_multiply not in ['add', 'multiply']:  # Validate input\n",
    "        return \"Third argument must be 'add' or 'multiply'\"\n",
    "    return None\n",
    "\n",
    "\n",
    "def validate_size(matrix1, matrix2, add_or_multiply):\n",
    "    if add_or_multiply == 'add':  # Add matrices\n",
    "        if matrix1.shape != matrix2.shape:  # Validate size\n",
    "            return \"Matrices must have the same size\"\n",
    "    elif add_or_multiply == 'multiply':  # Multiply matrices\n",
    "        if matrix1.shape[1] != matrix2.shape[1]:  # Validate size\n",
    "            return \"Number of columns in matrix1 must be equal to number of columns in matrix2\"\n",
    "    return None\n",
    "\n",
    "\n",
    "def get_matrix_input(promt):  # Define the function matrix_input():\n",
    "    matrix = []\n",
    "    while True:\n",
    "        row = input(promt)\n",
    "        if not row:\n",
    "            break\n",
    "        row_values = row.split(', ')\n",
    "        matrix.append(list(map(float, row_values)))\n",
    "    return np.array(matrix)\n",
    "\n",
    "\n",
    "def add_mult_matrices(matrix1, matrix2, add_or_multiply):\n",
    "    validation_result = validate_input(matrix1, matrix2, add_or_multiply)\n",
    "    if validation_result is not None:\n",
    "        return validation_result\n",
    "    validation_result = validate_size(matrix1, matrix2, add_or_multiply)\n",
    "    if validation_result is not None:\n",
    "        return validation_result\n",
    "    if add_or_multiply == 'add':  # Add matrices\n",
    "        return matrix1 + matrix2\n",
    "    elif add_or_multiply == 'multiply':  # Multiply matrices\n",
    "        return matrix1 @ matrix2\n",
    "\n",
    "\n",
    "def get_user_input():\n",
    "    while True:\n",
    "        matrix1 = get_matrix_input(\"Enter matrix 1 (space-separated values, rows separated by newline): \")\n",
    "        matrix2 = get_matrix_input(\"Enter matrix 2 (space-separated values, rows separated by newline): \")\n",
    "        print(\"Enter 'add' or 'multiply' to add or multiply matrices\")\n",
    "        add_or_multiply = input()\n",
    "        if add_or_multiply in ['add', 'multiply']:\n",
    "            return matrix1, matrix2, add_or_multiply\n",
    "        else:\n",
    "            print(\"Invalid input. Must be 'add' or 'multiply'\")\n",
    "\n",
    "\n",
    "def main():\n",
    "    while True:\n",
    "        matrix1, matrix2, _ = get_user_input()  # Call the function get_user_input()"
   ],
   "id": "7a714169337f45ea",
   "outputs": [],
   "execution_count": 65
  },
  {
   "metadata": {},
   "cell_type": "markdown",
   "source": "",
   "id": "59267a6376431d2e"
  },
  {
   "metadata": {},
   "cell_type": "markdown",
   "source": "I have created functions to validate the input and sizes of the matrices, as well as functions to get the input from the user and to add or multiply the matrices. I have not yet implemented the main function to run the program. // Sofia",
   "id": "4c4f38dac8c551bf"
  },
  {
   "metadata": {},
   "cell_type": "markdown",
   "source": "### Solve all the exercises in chapter 10.1 in the book \"Matematik för yrkeshögskolan\". ",
   "id": "8dad82d0-2359-4dff-8f5b-a57d3e34103c"
  },
  {
   "metadata": {},
   "cell_type": "markdown",
   "source": [
    "#10.1.2. Definiera vektorn v enligt v = (3 7 0 11)\n",
    "\n",
    "#10.1.2a) Vilken dimension har vektorn v?\n",
    "\n",
    "#10.1.2b) Beräkna 2v\n",
    "\n",
    "#10.1.2c) Beräkna 5v + 2v\n",
    "\n",
    "#10.1.2d) Beräkna 4v - 2v\n",
    "\n",
    "#10.1.2e) Beräkna v T (transponatet av v), vilken blir den nya dimensionen?\n",
    "\n",
    "#10.1.2f) Beräkna ||v||"
   ],
   "id": "b52f84f960334df1"
  },
  {
   "metadata": {},
   "cell_type": "code",
   "outputs": [],
   "execution_count": null,
   "source": [
    "import numpy as np\n",
    "\n",
    "v = np.array([3, 7, 0, 11])  # Define the vector v\n",
    "print(v)\n",
    "\n",
    "#10.1.2a) The dimension of the vector v\n",
    "print(\n",
    "    v.ndim)  # the v.ndim attribute returns the number of axes (dimensions) of the array. In this case, the vector v has 1 axis and therefore is a 1D array\n",
    "\n",
    "#10.1.2b) Calculate 2v\n",
    "print(2 * v)  # Multiply each element in the vector v by 2\n",
    "\n",
    "#10.1.2c) Calculate 5v + 2v\n",
    "print(5 * v + 2 * v)  # Multiply each element in the vector v by 5 and 2 respectively and add the results\n",
    "\n",
    "#10.1.2d) Calculate 4v - 2v\n",
    "print(4 * v - 2 * v)  # Multiply each element in the vector v by 4 and 2 respectively and subtract the results\n",
    "\n",
    "#10.1.2e) Calculate v T (the transpose of v), which is the new dimension?\n",
    "print(\n",
    "    v.T)  # The transpose of the vector v is obtained by swapping the rows and columns of the matrix representation of the vector. In this case, the new dimension is 4x1, meaning the vector v is a 4D array\n",
    "\n",
    "#10.1.2f) Calculate ||v||\n",
    "print(np.linalg.norm(\n",
    "    v))  # The norm of the vector v is calculated using the np.linalg.norm() function. Meaning the v norm is the square root of the sum of the squares of the elements in the vector v"
   ],
   "id": "3375f6e1f77a68cf"
  },
  {
   "metadata": {},
   "cell_type": "markdown",
   "source": [
    "#10.1.3. Definera vektorerna v1 = (4, 3, 1, 5) och v2 = (2, 3, 1, 1)\n",
    "\n",
    "#10.1.3a) Beräkna ||v1||\n",
    "\n",
    "#10.1.3b) Beräkna ||v1 -v2||"
   ],
   "id": "3d7ce67397017c0c"
  },
  {
   "metadata": {},
   "cell_type": "code",
   "outputs": [],
   "execution_count": null,
   "source": [
    "import numpy as np\n",
    "\n",
    "v1 = np.array([4, 3, 1, 5])  # Define the vector v1\n",
    "v2 = np.array([2, 3, 1, 1])  # Define the vector v2\n",
    "print(v1)\n",
    "print(v2)\n",
    "\n",
    "#10.1.3a) Calculate ||v1||\n",
    "print(np.linalg.norm(\n",
    "    v1))  # The norm of the vector v1 is calculated using the np.linalg.norm() function. Meaning the v1 norm is the square root of the sum of the squares of the elements in the vector v1. This will give the length of the vector v1.\n",
    "\n",
    "#10.1.3b) Calculate ||v1 -v2||\n",
    "print(np.linalg.norm(\n",
    "    v1 - v2))  # The norm of the difference between the vectors v1 and v2 is calculated using the np.linalg.norm() function. Meaning the norm of the difference is the square root of the sum of the squares of the elements in the vector v1 - v2"
   ],
   "id": "129a1e51c6b262c"
  },
  {
   "metadata": {},
   "cell_type": "markdown",
   "source": [
    "#10.1.1 Definera vektorn x enligt x = (4,3)\n",
    "\n",
    "#10.1.1a) Vilken dimension har vektorn x?\n",
    "\n",
    "#10.1.1b) Beräkna 5x\n",
    "\n",
    "#10.1.1c) Beräkna 3x\n",
    "\n",
    "#10.1.1d) Beräkna 5x + 3x\n",
    "\n",
    "#10.1.1e) Beräkna 8x\n",
    "\n",
    "#10.1.1f) Beräkna 4x - x\n",
    "\n",
    "#10.1.1g) Beräkna x T (transponatet av x), vilken blir den nya dimensionen?\n",
    "\n",
    "#10.1.1h) Är x + x T definierat?\n",
    "\n",
    "#10.1.1i) Beräkna ||x|| "
   ],
   "id": "797323c94df800ef"
  },
  {
   "metadata": {},
   "cell_type": "code",
   "outputs": [],
   "execution_count": null,
   "source": [
    "import numpy as np\n",
    "\n",
    "x = np.array([4, 3])  # Define the vector x\n",
    "print(x)\n",
    "\n",
    "#10.1.1a) The dimension of the vector x\n",
    "print(\n",
    "    x.ndim)  # the x.ndim attribute returns the number of axes (dimensions) of the array. In this case, the vector x has 1 axis and therefore is a 1D array\n",
    "\n",
    "#10.1.1b) Calculate 5x\n",
    "print(5 * x)  # Multiply each element in the vector x by 5\n",
    "\n",
    "#10.1.1c) Calculate 3x\n",
    "print(3 * x)  # Multiply each element in the vector x by 3\n",
    "\n",
    "#10.1.1d) Calculate 5x + 3x\n",
    "print(5 * x + 3 * x)  # Multiply each element in the vector x by 5 and 3 respectively and add the results\n",
    "\n",
    "#10.1.1e) Calculate 8x\n",
    "print(8 * x)  # Multiply each element in the vector x by 8\n",
    "\n",
    "#10.1.1f) Calculate 4x - x\n",
    "print(4 * x - x)  # Multiply each element in the vector x by 4 and subtract the results\n",
    "\n",
    "#10.1.1g) Calculate x T (the transpose of x), which is the new dimension?\n",
    "print(\n",
    "    x.T)  # The transpose of the vector x is obtained by swapping the rows and columns of the matrix representation of the vector. In this case, the new dimension is 2x1, meaning the vector x is a 2D array\n",
    "\n",
    "#10.1.1h) Is x + x T defined?\n",
    "print(np.array_equal(x + x.T,\n",
    "                     x.T + x))  # The addition of the vector x and its transpose is equal to the addition of the vector x and its transpose. Therefore, the addition is defined. \n",
    "\n",
    "#10.1.1i) Calculate ||x||\n",
    "print(np.linalg.norm(\n",
    "    x))  # The norm of the vector x is calculated using the np.linalg.norm() function. Meaning the x norm is the square root of the sum of the squares of the elements in the vector x. This will give the length of the vector x."
   ],
   "id": "46d00df2dcc06c71"
  },
  {
   "cell_type": "markdown",
   "id": "75c98984-1f88-4df1-b850-d2466de444a5",
   "metadata": {},
   "source": "### Solve all the exercises, except 10.2.4, in chapter 10.2 in the book \"Matematik för yrkeshögskolan\"."
  },
  {
   "metadata": {},
   "cell_type": "markdown",
   "source": [
    "#10.2.1. Definiera matriserna:\n",
    "\n",
    "A = [2 1 -1]\n",
    "    [1 -1 1]\n",
    "\n",
    "B = [4 -2 1]\n",
    "    [2 -4 -2]\n",
    "\n",
    "C = [1 2]\n",
    "    [2 1]\n",
    "\n",
    "D = [3 4]\n",
    "    [4 3]\n",
    "\n",
    "E = [1 2]\n",
    "\n",
    "I = [1 0]\n",
    "    [0 1]\n",
    "\n",
    "Om det är definerat, utför följande beräkningar:\n",
    "\n",
    "#10.2.1a) 2A\n",
    "\n",
    "#10.2.1b) B - 2A\n",
    "\n",
    "#10.2.1c) 3C - 2E\n",
    "\n",
    "#10.2.1d) 2D - 3C\n",
    "\n",
    "#10.2.1e) D T (transponatet av D) + 2D\n",
    "\n",
    "#10.2.1f) 2C T (transponatet av C) - 2D T (transponatet av D)\n",
    "\n",
    "#10.2.1g) A T (transponatet av A) - B\n",
    "\n",
    "#10.2.1h) AC\n",
    "\n",
    "#10.2.1i) CD\n",
    "\n",
    "#10.2.1j) CB\n",
    "\n",
    "#10.2.1k) CI\n",
    "\n",
    "#10.2.1l) AB T (transponatet av B)"
   ],
   "id": "ec933ab750f0ec28"
  },
  {
   "metadata": {},
   "cell_type": "code",
   "outputs": [],
   "execution_count": null,
   "source": [
    "import numpy as np\n",
    "\n",
    "#10.2.1. Define the matrices:\n",
    "A = np.array([[2, 1, -1], [1, -1, 1]])\n",
    "B = np.array([[4, -2, 1], [2, -4, -2]])\n",
    "C = np.array([[1, 2], [2, 1]])\n",
    "D = np.array([[3, 4], [4, 3]])\n",
    "E = np.array([[1, 2]])\n",
    "I = np.array([[1, 0], [0, 1]])\n",
    "print(A)\n",
    "print(B)\n",
    "print(C)\n",
    "print(D)\n",
    "print(E)\n",
    "print(I)\n",
    "\n",
    "#10.2.1a) Calculate 2A\n",
    "print(2 * A)  # Multiply each element in the matrix A by 2\n",
    "\n",
    "#10.2.1b) Calculate B - 2A\n",
    "print(\n",
    "    B - 2 * A)  # Subtract the second matrix A from the first matrix B by multiplying each element in the second matrix A by 2 and subtracting the result from the first matrix B\n",
    "\n",
    "#10.2.1c) Calculate 3C - 2E\n",
    "print(\n",
    "    3 * C - 2 * E)  # Subtract the second matrix E from the first matrix C by multiplying each element in the second matrix E by 2 and subtracting the result from the first matrix C\n",
    "\n",
    "#10.2.1d) Calculate 2D - 3C\n",
    "print(\n",
    "    2 * D - 3 * C)  # Subtract the second matrix C from the first matrix D by multiplying each element in the second matrix C by 3 and subtracting the result from the first matrix D\n",
    "\n",
    "#10.2.1e) Calculate D T + 2D (the transpose of D), which dimension is the new one?\n",
    "print(\n",
    "    D.T + 2 * D)  # The transpose of the matrix D is obtained by swapping the rows and columns of the matrix representation of the matrix. In this case, the new dimension is 2x2, meaning the matrix D is 2D array\n",
    "\n",
    "#10.2.1f) Calculate 2C T - 2D T\n",
    "print(\n",
    "    2 * C.T - 2 * D.T)  # Subtract the second matrix D.T from the first matrix C.T by multiplying each element in the second matrix D.T by 2 and subtracting the result from the first matrix, C.T. The new dimension is 2x2, meaning the matrix C is 2D array\n",
    "\n",
    "#10.2.1g) Calculate A T - B\n",
    "print(\n",
    "    A.T - B)  # Subtract the second matrix B from the first matrix A.T by subtracting the result from the first matrix, A.T. The new dimension is 2x2, meaning the matrix A is 2D array\n",
    "\n",
    "#10.2.1h) Calculate AC\n",
    "print(\n",
    "    A @ C)  # Multiply the matrix A by the matrix C using the @ operator. The new dimension is 2x2, meaning the matrix C is 2D array\n",
    "\n",
    "#10.2.1i) Calculate CD\n",
    "print(\n",
    "    C @ D)  # Multiply the matrix C by the matrix D using the @ operator. The new dimension is 2x2, meaning the matrix D is 2D array\n",
    "\n",
    "#10.2.1j) Calculate CB\n",
    "print(\n",
    "    C @ B)  # Multiply the matrix C by the matrix B using the @ operator. The new dimension is 2x2, meaning the matrix B is 2D array\n",
    "\n",
    "#10.2.1k) Calculate CI\n",
    "print(\n",
    "    C @ I)  # Multiply the matrix C by the matrix I'm using the @ operator. The new dimension is 2x2, meaning the matrix I is 2D array\n",
    "\n",
    "#10.2.1l) Calculate AB T (the transpose of B)\n",
    "print(\n",
    "    A @ B.T)  # Multiply the matrix A by the matrix B.T using the @ operator. The transpose of the matrix B is obtained by swapping the rows and columns of the matrix representation of the matrix. In this case, the new dimension is 2x2, meaning the matrix B is 2D array"
   ],
   "id": "374df1541b9c1e87"
  },
  {
   "metadata": {},
   "cell_type": "markdown",
   "source": [
    "#10.2.2. Definiera matrisen:\n",
    "\n",
    "A = [2 3 4]\n",
    "    [5 4 1]\n",
    "\n",
    "Beräkna: AA T (transponatet av A)"
   ],
   "id": "8378c3162d5b599f"
  },
  {
   "metadata": {},
   "cell_type": "code",
   "outputs": [],
   "execution_count": null,
   "source": [
    "import numpy as np\n",
    "\n",
    "A = np.array([[2, 3, 4], [5, 4, 1]])  # Define the matrix A\n",
    "print(A)  # Print the matrix A\n",
    "print(\n",
    "    A.T)  # Print the transpose of the matrix A. The transpose of the matrix A is obtained by swapping the rows and columns of the matrix representation of the matrix. In this case, the new dimension is 3x2, meaning the matrix A is a 3D array"
   ],
   "id": "286d5e768ebcf744"
  },
  {
   "metadata": {},
   "cell_type": "markdown",
   "source": [
    "#10.2.3. Definiera matriserna:\n",
    "\n",
    "A = [1 2]\n",
    "    [2 4]\n",
    "\n",
    "B = [2 1]\n",
    "    [1 3]\n",
    "\n",
    "C = [4 3]\n",
    "    [0 2]\n",
    "\n",
    "Verifiera att AB = AC men att B ≠ C\n",
    "\n",
    "Vad vill vi demonstrera med detta exempel är att vi har definerat ett nytt matematiskt objekt, matriser i detta fallet, som inte följer de vanliga reglerna för multiplikation. Vi kan multiplicera matriser med varandra."
   ],
   "id": "f0a50b11bb700020"
  },
  {
   "metadata": {},
   "cell_type": "code",
   "outputs": [],
   "execution_count": null,
   "source": [
    "import numpy as np\n",
    "\n",
    "A = np.array([[1, 2], [2, 4]])  # Define the matrix A\n",
    "B = np.array([[2, 1], [1, 3]])  # Define the matrix B\n",
    "C = np.array([[4, 3], [0, 2]])  # Define the matrix C\n",
    "print(\n",
    "    A @ B == C)  # Verify that the matrix A multiplied by the matrix B is equal to the matrix C. The @ operator is used to multiply the matrices. The result is True, meaning AB = AC\n",
    "print(B == C)  # Verify that the matrix B is not equal to the matrix C. The result is False, meaning B ≠ C"
   ],
   "id": "8b9c7c9840f76d4a"
  },
  {
   "metadata": {},
   "cell_type": "markdown",
   "source": [
    "#10.2.4. Skriv det linja ekvationssystemet nedan på formen Ax = b\n",
    "\n",
    "3x nedsänkt 1 + 2x nedsänkt 2 + 4x nedsänkt 3 = 7\n",
    "\n",
    "2x nedsänkt 1 + 3x nedsänkt 2 + 7x nedsänkt 3 = 4\n",
    "\n",
    "4x nedsänkt 1 + x nedsänkt 2 + 3x nedsänkt 3 = 11\n",
    "\n",
    "7x nedsänkt 1 + x nedsänkt 2 + 5x nedsänkt 3 = 9\n",
    "\n",
    "Verifiera att lösningen till ekvationssystemet genom att skriva ut matrismultiplikationen Ax = b och jämför med det urspringliga ekvationssystemet."
   ],
   "id": "6adb96f565148f74"
  },
  {
   "metadata": {},
   "cell_type": "code",
   "outputs": [],
   "execution_count": null,
   "source": [
    "import numpy as np\n",
    "\n",
    "A = np.array([[3, 2, 4], [2, 3, 7], [4, 0, 3], [7, 2, 5]])  # Define the matrix A\n",
    "b = np.array([7, 4, 11, 9])  # Define the vector b\n",
    "print(\n",
    "    A @ b)  # Print the matrix A multiplied by the vector b using the @ operator. The result is the solution to the equation system. The new dimension is 4x1, meaning the vector b is a 4D array, and the matrix A is a 4D array"
   ],
   "id": "e3338563490b7cd5"
  },
  {
   "cell_type": "markdown",
   "id": "6a4a524f",
   "metadata": {},
   "source": [
    "### Copies and Views\n",
    "Read the following link: https://numpy.org/doc/stable/user/basics.copies.html"
   ]
  },
  {
   "cell_type": "markdown",
   "id": "6cbbeaf7",
   "metadata": {},
   "source": [
    "**Basic indexing creates a view, How can you check if v1 and v2 is a view or copy? If you change the last element in v2 to 123, will the last element in v1 be changed? Why?**"
   ]
  },
  {
   "cell_type": "code",
   "id": "5b9ef4df",
   "metadata": {
    "ExecuteTime": {
     "end_time": "2024-10-17T15:59:06.878005Z",
     "start_time": "2024-10-17T15:59:05.840062Z"
    }
   },
   "source": [
    "v1 = np.arange(4)\n",
    "v2 = v1[-2:]\n",
    "print(v1)\n",
    "print(v2)"
   ],
   "outputs": [
    {
     "ename": "NameError",
     "evalue": "name 'np' is not defined",
     "output_type": "error",
     "traceback": [
      "\u001B[0;31m---------------------------------------------------------------------------\u001B[0m",
      "\u001B[0;31mNameError\u001B[0m                                 Traceback (most recent call last)",
      "Cell \u001B[0;32mIn[1], line 1\u001B[0m\n\u001B[0;32m----> 1\u001B[0m v1 \u001B[38;5;241m=\u001B[39m np\u001B[38;5;241m.\u001B[39marange(\u001B[38;5;241m4\u001B[39m)\n\u001B[1;32m      2\u001B[0m v2 \u001B[38;5;241m=\u001B[39m v1[\u001B[38;5;241m-\u001B[39m\u001B[38;5;241m2\u001B[39m:]\n\u001B[1;32m      3\u001B[0m \u001B[38;5;28mprint\u001B[39m(v1)\n",
      "\u001B[0;31mNameError\u001B[0m: name 'np' is not defined"
     ]
    }
   ],
   "execution_count": 1
  },
  {
   "cell_type": "markdown",
   "id": "69674381",
   "metadata": {},
   "source": ""
  },
  {
   "cell_type": "code",
   "id": "d2440489",
   "metadata": {
    "ExecuteTime": {
     "end_time": "2024-10-16T21:27:21.853669Z",
     "start_time": "2024-10-16T21:27:21.847348Z"
    }
   },
   "source": [
    "# The base attribute of a view returns the original array while it returns None for a copy.\n",
    "print(v1.base)\n",
    "print(v2.base)"
   ],
   "outputs": [
    {
     "name": "stdout",
     "output_type": "stream",
     "text": [
      "None\n",
      "[  0   1   2   3]\n"
     ]
    }
   ],
   "execution_count": 25
  },
  {
   "cell_type": "markdown",
   "id": "505e0f09",
   "metadata": {},
   "source": ""
  },
  {
   "cell_type": "code",
   "id": "c8752807",
   "metadata": {
    "ExecuteTime": {
     "end_time": "2024-10-16T21:27:21.894320Z",
     "start_time": "2024-10-16T21:27:21.890401Z"
    }
   },
   "source": [
    "# The last element in v1 will be changed as well since v2 is a view, meaning they share the same data buffer.\n",
    "v2[-1] = 123\n",
    "print(v1)\n",
    "print(v2)"
   ],
   "outputs": [
    {
     "name": "stdout",
     "output_type": "stream",
     "text": [
      "[  0   1   2 123]\n",
      "[  2 123]\n"
     ]
    }
   ],
   "execution_count": 26
  },
  {
   "cell_type": "markdown",
   "id": "9ad1d29a",
   "metadata": {},
   "source": ""
  }
 ],
 "metadata": {
  "kernelspec": {
   "display_name": "Python 3 (ipykernel)",
   "language": "python",
   "name": "python3"
  },
  "language_info": {
   "codemirror_mode": {
    "name": "ipython",
    "version": 3
   },
   "file_extension": ".py",
   "mimetype": "text/x-python",
   "name": "python",
   "nbconvert_exporter": "python",
   "pygments_lexer": "ipython3",
   "version": "3.12.7"
  }
 },
 "nbformat": 4,
 "nbformat_minor": 5
}
