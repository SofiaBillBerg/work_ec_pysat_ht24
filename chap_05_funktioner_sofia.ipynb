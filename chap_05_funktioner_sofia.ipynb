{
 "cells": [
  {
   "cell_type": "markdown",
   "id": "92b5c548-e8ea-4ce8-a138-b3343118191b",
   "metadata": {},
   "source": [
    "# Uppgifter, Kapitel 5 - Funktioner"
   ]
  },
  {
   "cell_type": "markdown",
   "id": "502784d2-d030-4e1d-8a09-b0b7e2814b63",
   "metadata": {},
   "source": [
    "1. Vad är funktioner för något? "
   ]
  },
  {
   "cell_type": "markdown",
   "id": "968b7d3f",
   "metadata": {},
   "source": [
    "funktioner används för att skriva kod som kan återanvändas och för att göra koden mer lättläst. med funktioner är det möjligt att skriva kod som utför en specifik uppgift och som sedan kan anropas när så behövs. vi kan använda fördefinerade funktioner som finns i python och andra programmeringsspråk, eller så kan vi skapa våra egna funktioner."
   ]
  },
  {
   "cell_type": "markdown",
   "id": "f157afb8-a424-4ea6-a749-ad29f71265d6",
   "metadata": {},
   "source": [
    "2. Vad är parametrar och argument för något? "
   ]
  },
  {
   "cell_type": "markdown",
   "id": "8abbd486",
   "metadata": {},
   "source": [
    "parametrar är de variabler som används i en funktion för att ta emot värden som kan användas i funktionen. argument r de värden som appliceras på parametrerna när funktionen anropas. det går att använda flera parameterar och argument i en funktion. genom att definera paramterar är det möjligt att skapa en flexibel funktion som kan användas för att utföra lika uppgifter. det går också att skapa funktioner som kan hantera andra funktioner som argument."
   ]
  },
  {
   "cell_type": "markdown",
   "id": "f2b788f5-5052-43cb-9530-9d57c3aa8425",
   "metadata": {},
   "source": [
    "3. Skapa en funktion som heter \"uppercase_converter\". Funktionen skall ta en sträng som ett argument och returnera strängen med stora bokstäver (versaler). Exempel: uppercase_converter(\"hello\") skall returnera \"HELLO\"."
   ]
  },
  {
   "cell_type": "code",
   "execution_count": 1,
   "id": "69fd003d-4e6d-41bf-b70e-23f3694a6afe",
   "metadata": {},
   "outputs": [
    {
     "name": "stdout",
     "output_type": "stream",
     "text": [
      "HELLO\n"
     ]
    }
   ],
   "source": [
    "def uppercase_converter(string: str) -> str:\n",
    "    return string.upper()\n",
    "\n",
    "string = \"hello\"\n",
    "print(uppercase_converter(string))\n",
    "\n"
   ]
  },
  {
   "cell_type": "markdown",
   "id": "a54f7d21",
   "metadata": {},
   "source": [
    "genom att definera den funktion som jag vill skapa har jag använt med av en inbyggd funktion som heter upper(). denna funktion används för att konventera en sträng (string) från gemener till versaler. med uppercase har jag skapat en variabel som innehåller strängen som jag vill konventera. det är sedan den som anropas med funktionen upper() och som returneras när funktionen anropas.\n",
    "\n",
    "```python"
   ]
  },
  {
   "cell_type": "markdown",
   "id": "60f2c868-0651-4b74-b1ec-fa193b970fc2",
   "metadata": {},
   "source": [
    "4. Skapa en funktion \"add_subtract_function\" som tar två argument och som resturnerar både summan och subtraktionen av de två talen i en tuple. Funktionen skall alltså returnera två resultat.\n",
    "   \n",
    "   Exempel: add_subtract_function(7, 3) skall returnera resultatet (10, 4). "
   ]
  },
  {
   "cell_type": "code",
   "execution_count": null,
   "id": "4442d5c3-35be-4536-9c26-cb984588b93c",
   "metadata": {},
   "outputs": [],
   "source": [
    "def add_subtract_function (a: int, b: int) -> tuple:\n",
    "    return a + b, a - b \n",
    "\n",
    "a = 10\n",
    "b = 5\n",
    "\n",
    "print(add_subtract_function(a, b))"
   ]
  },
  {
   "cell_type": "markdown",
   "id": "f2b59d6e",
   "metadata": {},
   "source": [
    "genom att definera den funktion som jag vill skapa har jag använt mig av en tuple som jag kan använda i funktionen. genom att använda en tuple har jag möjlighet att returnera flera värden från en funktion. variablerna a och b används för att lagra argumenten som används. dessa variabler används sedan för att utföra valda operationer - i detta fall addition och subtraktion. resultatet returneras sedan i en tuple.\n",
    "\n",
    "```python"
   ]
  },
  {
   "cell_type": "markdown",
   "id": "504cae43-4001-4135-9cda-06430007768b",
   "metadata": {},
   "source": [
    "5. Skapa en funktion som innehåller minst en \"endast-positionsparameter\", minst en \"positions-eller-nyckelordsparameter\" samt minst en \"endast-nyckelordsparameter\". Ledning: f(pos_only, /, pos_or_kwd, *, kwd_only). "
   ]
  },
  {
   "cell_type": "code",
   "execution_count": null,
   "id": "8d067288",
   "metadata": {},
   "outputs": [],
   "source": [
    "def function_pos_only (a: int, b: int, c: int) -> int:\n",
    "    a = 5\n",
    "    b = 20\n",
    "    c = 45\n",
    "    print (function_pos_only(a, b, c))\n",
    "    \n",
    "    \n",
    "    def function_pos_or_kwd (a: int, b: int, /, c: int, d: int) -> int:\n",
    "        return a + b + c + d\n",
    "    \n",
    "    def function_kwd_only (*, a: int, b: int) -> int:\n",
    "        return a + b\n",
    "\n",
    "\n"
   ]
  },
  {
   "cell_type": "markdown",
   "id": "19f8ee75",
   "metadata": {},
   "source": [
    "jag har definerat en funktion som innehåller tre olika typer av parametrar. den första parameterna är en endast-positionsparameter som används för att ta emot ett värde som inte kan anges med hjälp av nyckelord. den andra parametern är en positions-eller-nyckelordsparameter som kan anges med hjälp av nyckelord. den tredje parametern är en endast-nyckelordsparameter som endast kan anges med hjälp av nyckelord.\n",
    "\n",
    "```python"
   ]
  },
  {
   "cell_type": "markdown",
   "id": "3c54c834-bc82-49b7-8dad-57285e90a6a5",
   "metadata": {},
   "source": [
    "6. Förklara vad nedanstående kod gör. "
   ]
  },
  {
   "cell_type": "code",
   "execution_count": null,
   "id": "86176bac-61f1-4bc4-9332-a85dcb226314",
   "metadata": {},
   "outputs": [],
   "source": [
    "def my_sum_function(x1, x2):\n",
    "    return x1 + x2\n",
    "\n",
    "a = my_sum_function\n",
    "\n",
    "a(1, 2)"
   ]
  },
  {
   "cell_type": "markdown",
   "id": "8941ffd9",
   "metadata": {},
   "source": [
    "en funktion har först definierats för att sedan kunna anropas för att utföra vald uppgift. argumenten som används är x1 och x2. \n",
    "resultaten returneras när funktionen anropas. a används för att lagra reslutatet av x1 och x2 som adderas. när funktionen andropas returneras a"
   ]
  },
  {
   "cell_type": "markdown",
   "id": "5fff27c2-3dcc-4e6c-a748-0322b4fbdf5f",
   "metadata": {},
   "source": [
    "7. Skriv en funktion som du kallar för \"add_or_multiply\". Funktionen \"add_or_multiply\" skall ta tre argument. De första två är tal medans det tredje specificierar huruvida du önskar addera eller multiplicera de två talen. Om användaren av funktionen varken specificerar \"add\" eller \"multiply\" som det tredje argumentet så skall meddeleandet \"Choose either \"add\" or \"multiply\". \"  printas ut. \n",
    "\n",
    "    Exempel: \n",
    "    \n",
    "    \"add_or_multiply(2, 5, \"add\") = 7\"\n",
    "    \n",
    "    \"add_or_multiply(2, 5, \"multiply\") = 10\"\n",
    "    \n",
    "    \"add_or_multiply(2, 5, \"Wrong\")\" skall printa ut meddelandet: Choose either \"add\" or \"multiply\". \n"
   ]
  },
  {
   "cell_type": "code",
   "execution_count": 5,
   "id": "f647a4d3-fff9-486d-84b5-504902f6bcef",
   "metadata": {},
   "outputs": [],
   "source": [
    "def add_or_multiply(a: int, b: int, do_add: bool) -> int:\n",
    "    if do_add:\n",
    "        return a + b\n",
    "    elif not do_add:\n",
    "        return a * b\n",
    "    else:\n",
    "        return 'Choose either \"add\" or \"multiply\"'\n",
    "        \n",
    "        input(\"Enter two numbers and choose either 'add' or 'multiply': \")\n",
    "        a = int(input(\"Enter the first number: \"))\n",
    "        b = int(input(\"Enter the second number: \"))\n",
    "        do_add = input(\"Choose either 'add' or 'multiply': \")\n",
    "\n",
    "        print(add_or_multiply(a, b, do_add))\n",
    "        "
   ]
  },
  {
   "cell_type": "markdown",
   "id": "0cbd06a1",
   "metadata": {},
   "source": [
    "jag har definierat en funktion som tar tre argument. de två första argumenten används för att lagra talen som ska adderas eller multipliceras. det tredje argumentet används för att ange vilken operation som ska utföras. genom att använda en if-sats kan jag kontrollera vilken operation som ska utföras. om användaren inte anger en giltig operation returneras ett meddelande som anger att användaren måste välja antingen add eller multiply.\n",
    "\n",
    "```python"
   ]
  },
  {
   "cell_type": "markdown",
   "id": "f2b68363-ac11-4a0b-b25d-292b0ffaca60",
   "metadata": {},
   "source": [
    "8. Kör koden nedan och förklara vad som sker. "
   ]
  },
  {
   "cell_type": "code",
   "execution_count": null,
   "id": "491108e5-7182-47b5-ae21-45a0aa05c547",
   "metadata": {},
   "outputs": [],
   "source": [
    "name = input('What is your name dear stranger?')\n",
    "\n",
    "print('Mom, I met a person whos name is:', name)"
   ]
  },
  {
   "cell_type": "markdown",
   "id": "aa85c9b6",
   "metadata": {},
   "source": [
    "koden frågar efter att användaren ska skriva in ett namn genom att använda funktionen input med efterföljande print. input innebär att användaren ska skriva in något. Sedan skrivs namnet ut med hjälp av print följt av innehållet i print inklusive name\n"
   ]
  }
 ],
 "metadata": {
  "kernelspec": {
   "display_name": "ecutbildning",
   "language": "python",
   "name": "python3"
  },
  "language_info": {
   "codemirror_mode": {
    "name": "ipython",
    "version": 3
   },
   "file_extension": ".py",
   "mimetype": "text/x-python",
   "name": "python",
   "nbconvert_exporter": "python",
   "pygments_lexer": "ipython3",
   "version": "3.12.7"
  }
 },
 "nbformat": 4,
 "nbformat_minor": 5
}
